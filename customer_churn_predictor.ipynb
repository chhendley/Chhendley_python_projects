{
  "cells": [
    {
      "cell_type": "markdown",
      "metadata": {
        "id": "view-in-github",
        "colab_type": "text"
      },
      "source": [
        "<a href=\"https://colab.research.google.com/github/chhendley/chhendley_python_projects/blob/main/customer_churn_predictor.ipynb\" target=\"_parent\"><img src=\"https://colab.research.google.com/assets/colab-badge.svg\" alt=\"Open In Colab\"/></a>"
      ]
    },
    {
      "cell_type": "code",
      "execution_count": 3,
      "metadata": {
        "colab": {
          "base_uri": "https://localhost:8080/"
        },
        "id": "HMLELJjwBRz1",
        "outputId": "31bc80d7-4f56-42dd-c8ac-68c42be4835c"
      },
      "outputs": [
        {
          "output_type": "stream",
          "name": "stdout",
          "text": [
            "Collecting scikeras\n",
            "  Downloading scikeras-0.11.0-py3-none-any.whl (27 kB)\n",
            "Requirement already satisfied: packaging>=0.21 in /usr/local/lib/python3.10/dist-packages (from scikeras) (23.1)\n",
            "Requirement already satisfied: scikit-learn>=1.0.0 in /usr/local/lib/python3.10/dist-packages (from scikeras) (1.2.2)\n",
            "Requirement already satisfied: numpy>=1.17.3 in /usr/local/lib/python3.10/dist-packages (from scikit-learn>=1.0.0->scikeras) (1.22.4)\n",
            "Requirement already satisfied: scipy>=1.3.2 in /usr/local/lib/python3.10/dist-packages (from scikit-learn>=1.0.0->scikeras) (1.10.1)\n",
            "Requirement already satisfied: joblib>=1.1.1 in /usr/local/lib/python3.10/dist-packages (from scikit-learn>=1.0.0->scikeras) (1.3.1)\n",
            "Requirement already satisfied: threadpoolctl>=2.0.0 in /usr/local/lib/python3.10/dist-packages (from scikit-learn>=1.0.0->scikeras) (3.2.0)\n",
            "Installing collected packages: scikeras\n",
            "Successfully installed scikeras-0.11.0\n",
            "\u001b[2K     \u001b[90m━━━━━━━━━━━━━━━━━━━━━━━━━━━━━━━━━━━━━━━\u001b[0m \u001b[32m176.1/176.1 kB\u001b[0m \u001b[31m3.9 MB/s\u001b[0m eta \u001b[36m0:00:00\u001b[0m\n",
            "\u001b[?25hCollecting catboost\n",
            "  Downloading catboost-1.2-cp310-cp310-manylinux2014_x86_64.whl (98.6 MB)\n",
            "\u001b[2K     \u001b[90m━━━━━━━━━━━━━━━━━━━━━━━━━━━━━━━━━━━━━━━━\u001b[0m \u001b[32m98.6/98.6 MB\u001b[0m \u001b[31m10.3 MB/s\u001b[0m eta \u001b[36m0:00:00\u001b[0m\n",
            "\u001b[?25hRequirement already satisfied: graphviz in /usr/local/lib/python3.10/dist-packages (from catboost) (0.20.1)\n",
            "Requirement already satisfied: matplotlib in /usr/local/lib/python3.10/dist-packages (from catboost) (3.7.1)\n",
            "Requirement already satisfied: numpy>=1.16.0 in /usr/local/lib/python3.10/dist-packages (from catboost) (1.22.4)\n",
            "Requirement already satisfied: pandas>=0.24 in /usr/local/lib/python3.10/dist-packages (from catboost) (1.5.3)\n",
            "Requirement already satisfied: scipy in /usr/local/lib/python3.10/dist-packages (from catboost) (1.10.1)\n",
            "Requirement already satisfied: plotly in /usr/local/lib/python3.10/dist-packages (from catboost) (5.13.1)\n",
            "Requirement already satisfied: six in /usr/local/lib/python3.10/dist-packages (from catboost) (1.16.0)\n",
            "Requirement already satisfied: python-dateutil>=2.8.1 in /usr/local/lib/python3.10/dist-packages (from pandas>=0.24->catboost) (2.8.2)\n",
            "Requirement already satisfied: pytz>=2020.1 in /usr/local/lib/python3.10/dist-packages (from pandas>=0.24->catboost) (2022.7.1)\n",
            "Requirement already satisfied: contourpy>=1.0.1 in /usr/local/lib/python3.10/dist-packages (from matplotlib->catboost) (1.1.0)\n",
            "Requirement already satisfied: cycler>=0.10 in /usr/local/lib/python3.10/dist-packages (from matplotlib->catboost) (0.11.0)\n",
            "Requirement already satisfied: fonttools>=4.22.0 in /usr/local/lib/python3.10/dist-packages (from matplotlib->catboost) (4.41.1)\n",
            "Requirement already satisfied: kiwisolver>=1.0.1 in /usr/local/lib/python3.10/dist-packages (from matplotlib->catboost) (1.4.4)\n",
            "Requirement already satisfied: packaging>=20.0 in /usr/local/lib/python3.10/dist-packages (from matplotlib->catboost) (23.1)\n",
            "Requirement already satisfied: pillow>=6.2.0 in /usr/local/lib/python3.10/dist-packages (from matplotlib->catboost) (9.4.0)\n",
            "Requirement already satisfied: pyparsing>=2.3.1 in /usr/local/lib/python3.10/dist-packages (from matplotlib->catboost) (3.1.0)\n",
            "Requirement already satisfied: tenacity>=6.2.0 in /usr/local/lib/python3.10/dist-packages (from plotly->catboost) (8.2.2)\n",
            "Installing collected packages: catboost\n",
            "Successfully installed catboost-1.2\n"
          ]
        }
      ],
      "source": [
        "!pip install scikeras\n",
        "!pip install keras-tuner -q\n",
        "!pip install catboost"
      ]
    },
    {
      "cell_type": "code",
      "execution_count": 4,
      "metadata": {
        "id": "WRP7UfUR_8wh"
      },
      "outputs": [],
      "source": [
        "#machine learning libraries\n",
        "from sklearn.preprocessing import StandardScaler\n",
        "from sklearn.preprocessing import LabelEncoder\n",
        "from sklearn.tree import DecisionTreeClassifier\n",
        "from sklearn.ensemble import RandomForestClassifier\n",
        "from sklearn.naive_bayes import GaussianNB\n",
        "from sklearn.neighbors import KNeighborsClassifier\n",
        "from sklearn.svm import SVC\n",
        "from sklearn.neural_network import MLPClassifier\n",
        "from sklearn.ensemble import AdaBoostClassifier\n",
        "from sklearn.ensemble import GradientBoostingClassifier\n",
        "from sklearn.ensemble import ExtraTreesClassifier\n",
        "from sklearn.linear_model import LogisticRegression\n",
        "from sklearn.model_selection import train_test_split\n",
        "from sklearn.metrics import accuracy_score\n",
        "from xgboost import XGBClassifier\n",
        "from catboost import CatBoostClassifier\n",
        "from sklearn import metrics\n",
        "from sklearn.metrics import roc_curve\n",
        "from sklearn.metrics import recall_score, confusion_matrix, precision_score, f1_score, accuracy_score, classification_report\n",
        "import pandas as pd\n",
        "import numpy as np\n",
        "import matplotlib.pyplot as plt\n",
        "import seaborn as sb\n",
        "from sklearn.preprocessing import MinMaxScaler"
      ]
    },
    {
      "cell_type": "code",
      "execution_count": 5,
      "metadata": {
        "id": "tzKYCjNgkEFL"
      },
      "outputs": [],
      "source": [
        "\n",
        "#neural network libraries\n",
        "import keras_tuner\n",
        "from tensorflow import keras\n",
        "from keras_tuner import RandomSearch, GridSearch\n",
        "import pandas as pd\n",
        "import numpy as np\n",
        "from sklearn.model_selection import train_test_split\n",
        "from pandas import read_csv\n",
        "from tensorflow.keras.models import Sequential\n",
        "from tensorflow.keras.layers import Dense\n",
        "from scikeras.wrappers import KerasClassifier\n",
        "from sklearn.model_selection import cross_val_score\n",
        "from sklearn.preprocessing import LabelEncoder\n",
        "from sklearn.model_selection import StratifiedKFold\n",
        "from sklearn.preprocessing import StandardScaler\n",
        "from sklearn.pipeline import Pipeline\n",
        "import matplotlib.pyplot as plt\n",
        "import keras_tuner\n",
        "from tensorflow import keras\n",
        "from keras_tuner import RandomSearch, GridSearch\n",
        "import keras\n",
        "from keras.layers.core.dense import utils\n",
        "from keras.wrappers.scikit_learn import KerasClassifier\n",
        "from sklearn.model_selection import GridSearchCV\n",
        "from sklearn.preprocessing import StandardScaler\n",
        "from sklearn.model_selection import train_test_split\n",
        "from keras.saving.legacy.saving_utils import model_call_inputs\n",
        "from keras.layers import BatchNormalization, LayerNormalization\n",
        "import tensorflow as tf\n",
        "import matplotlib.pyplot as plt\n",
        "import random\n",
        "from keras.layers import Input, Dense\n",
        "from keras.layers import Dropout, Activation"
      ]
    },
    {
      "cell_type": "code",
      "execution_count": null,
      "metadata": {
        "id": "iunwW16w6mur"
      },
      "outputs": [],
      "source": [
        "# load the dataset\n",
        "url = 'https://github.com/chhendley/chhendley_python_projects/raw/main/WA_Fn-UseC_-Telco-Customer-Churn%20(1).csv'\n",
        "#df=pd.read_csv('WA_Fn-UseC_-Telco-Customer-Churn (1).csv')\n",
        "df=pd.read_csv(url)"
      ]
    },
    {
      "cell_type": "code",
      "execution_count": null,
      "metadata": {
        "id": "oH5CNJsedTRC"
      },
      "outputs": [],
      "source": [
        "df = df.drop('customerID',axis=1)"
      ]
    },
    {
      "cell_type": "code",
      "execution_count": null,
      "metadata": {
        "colab": {
          "base_uri": "https://localhost:8080/"
        },
        "id": "h9nEfghHdX2V",
        "outputId": "6b663e85-6475-4e0b-ecf4-188a765e5aa0"
      },
      "outputs": [
        {
          "output_type": "stream",
          "name": "stdout",
          "text": [
            "count of empty string:-  11\n"
          ]
        }
      ],
      "source": [
        "#count of string value into the column.\n",
        "count=0\n",
        "for i in df.TotalCharges:\n",
        "    if i==' ':\n",
        "        count+=1\n",
        "print('count of empty string:- ',count)\n",
        "#we will replace this empty string to nan values\n",
        "df['TotalCharges'] = df['TotalCharges'].replace(\" \",np.nan)\n",
        "# typecasting of the TotalCharges column\n",
        "df['TotalCharges'] = df['TotalCharges'].astype(float)"
      ]
    },
    {
      "cell_type": "code",
      "execution_count": null,
      "metadata": {
        "id": "NiGmOJlhdiGq"
      },
      "outputs": [],
      "source": [
        "# checking null value\n",
        "df.isnull().sum()\n",
        "#fill null values with mean\n",
        "df['TotalCharges'] = df['TotalCharges'].fillna(df['TotalCharges'].mean())"
      ]
    },
    {
      "cell_type": "code",
      "execution_count": null,
      "metadata": {
        "id": "axUuhLuYhZPo"
      },
      "outputs": [],
      "source": [
        "#numerical variables\n",
        "num = list(df.select_dtypes(include=['int64','float64']).keys())\n",
        "#categorical variables\n",
        "cat = list(df.select_dtypes(include='O').keys())"
      ]
    },
    {
      "cell_type": "code",
      "execution_count": null,
      "metadata": {
        "colab": {
          "base_uri": "https://localhost:8080/"
        },
        "id": "tXYIQf2td5kp",
        "outputId": "c2a9fcb8-6d6b-4d79-d09d-fc02a7ed4865"
      },
      "outputs": [
        {
          "output_type": "stream",
          "name": "stdout",
          "text": [
            "Male      3555\n",
            "Female    3488\n",
            "Name: gender, dtype: int64\n",
            "No     3641\n",
            "Yes    3402\n",
            "Name: Partner, dtype: int64\n",
            "No     4933\n",
            "Yes    2110\n",
            "Name: Dependents, dtype: int64\n",
            "Yes    6361\n",
            "No      682\n",
            "Name: PhoneService, dtype: int64\n",
            "No                  3390\n",
            "Yes                 2971\n",
            "No phone service     682\n",
            "Name: MultipleLines, dtype: int64\n",
            "Fiber optic    3096\n",
            "DSL            2421\n",
            "No             1526\n",
            "Name: InternetService, dtype: int64\n",
            "No                     3498\n",
            "Yes                    2019\n",
            "No internet service    1526\n",
            "Name: OnlineSecurity, dtype: int64\n",
            "No                     3088\n",
            "Yes                    2429\n",
            "No internet service    1526\n",
            "Name: OnlineBackup, dtype: int64\n",
            "No                     3095\n",
            "Yes                    2422\n",
            "No internet service    1526\n",
            "Name: DeviceProtection, dtype: int64\n",
            "No                     3473\n",
            "Yes                    2044\n",
            "No internet service    1526\n",
            "Name: TechSupport, dtype: int64\n",
            "No                     2810\n",
            "Yes                    2707\n",
            "No internet service    1526\n",
            "Name: StreamingTV, dtype: int64\n",
            "No                     2785\n",
            "Yes                    2732\n",
            "No internet service    1526\n",
            "Name: StreamingMovies, dtype: int64\n",
            "Month-to-month    3875\n",
            "Two year          1695\n",
            "One year          1473\n",
            "Name: Contract, dtype: int64\n",
            "Yes    4171\n",
            "No     2872\n",
            "Name: PaperlessBilling, dtype: int64\n",
            "Electronic check             2365\n",
            "Mailed check                 1612\n",
            "Bank transfer (automatic)    1544\n",
            "Credit card (automatic)      1522\n",
            "Name: PaymentMethod, dtype: int64\n",
            "No     5174\n",
            "Yes    1869\n",
            "Name: Churn, dtype: int64\n"
          ]
        }
      ],
      "source": [
        "# value_counts of the categorical columns\n",
        "for i in cat:\n",
        "    print(df[i].value_counts())\n",
        "# as we see that there is extra categories which we have to convert it into No.\n",
        "df.MultipleLines = df.MultipleLines.replace('No phone service','No')\n",
        "df.OnlineSecurity = df.OnlineSecurity.replace('No internet service','No')\n",
        "df.OnlineBackup = df.OnlineBackup.replace('No internet service','No')\n",
        "df.DeviceProtection = df.DeviceProtection.replace('No internet service','No')\n",
        "df.TechSupport = df.TechSupport.replace('No internet service','No')\n",
        "df.StreamingTV = df.StreamingTV.replace('No internet service','No')\n",
        "df.StreamingMovies = df.StreamingMovies.replace('No internet service','No')"
      ]
    },
    {
      "cell_type": "code",
      "execution_count": null,
      "metadata": {
        "id": "yGlkYcXwd9ir"
      },
      "outputs": [],
      "source": [
        "#convert Yes = 1 and No = 0\n",
        "for i in cat:\n",
        "    df[i] = df[i].replace('Yes',1)\n",
        "    df[i] = df[i].replace('No',0)\n",
        "#convert male = 1 and female = 0\n",
        "df.gender = df.gender.replace('Male',1)\n",
        "df.gender = df.gender.replace('Female',0)\n",
        "df.InternetService = df.InternetService.replace(0,'DSL')\n",
        "label = LabelEncoder()\n",
        "df['InternetService'] = label.fit_transform(df['InternetService'])\n"
      ]
    },
    {
      "cell_type": "code",
      "execution_count": null,
      "metadata": {
        "id": "Vzg3kaK2gw5E"
      },
      "outputs": [],
      "source": [
        "df['Contract'] = label.fit_transform(df['Contract'])\n",
        "df['PaymentMethod'] = label.fit_transform(df['PaymentMethod'])"
      ]
    },
    {
      "cell_type": "code",
      "execution_count": null,
      "metadata": {
        "id": "mM3wiIEEedRT"
      },
      "outputs": [],
      "source": [
        "scale_cols = ['tenure','MonthlyCharges','TotalCharges']\n",
        "from sklearn.preprocessing import MinMaxScaler\n",
        "scale = MinMaxScaler()\n",
        "df[scale_cols] = scale.fit_transform(df[scale_cols])"
      ]
    },
    {
      "cell_type": "code",
      "execution_count": null,
      "metadata": {
        "colab": {
          "base_uri": "https://localhost:8080/",
          "height": 740
        },
        "id": "PVvfz2FerjUB",
        "outputId": "2490de59-53f4-479b-e402-d49f3987c5b9"
      },
      "outputs": [
        {
          "output_type": "execute_result",
          "data": {
            "text/plain": [
              "                    gender  SeniorCitizen   Partner  Dependents    tenure  \\\n",
              "gender            1.000000      -0.001874 -0.001808    0.010517  0.005106   \n",
              "SeniorCitizen    -0.001874       1.000000  0.016479   -0.211185  0.016567   \n",
              "Partner          -0.001808       0.016479  1.000000    0.452676  0.379697   \n",
              "Dependents        0.010517      -0.211185  0.452676    1.000000  0.159712   \n",
              "tenure            0.005106       0.016567  0.379697    0.159712  1.000000   \n",
              "PhoneService     -0.006488       0.008576  0.017706   -0.001762  0.008448   \n",
              "MultipleLines    -0.008414       0.142948  0.142057   -0.024526  0.331941   \n",
              "InternetService  -0.011286       0.255338  0.000304   -0.165818  0.019720   \n",
              "OnlineSecurity   -0.017021      -0.038653  0.143106    0.080972  0.327203   \n",
              "OnlineBackup     -0.013773       0.066572  0.141498    0.023671  0.360277   \n",
              "DeviceProtection -0.002105       0.059428  0.153786    0.013963  0.360653   \n",
              "TechSupport      -0.009212      -0.060625  0.119999    0.063268  0.324221   \n",
              "StreamingTV      -0.008393       0.105378  0.124666   -0.016558  0.279756   \n",
              "StreamingMovies  -0.010487       0.120176  0.117412   -0.039741  0.286111   \n",
              "Contract          0.000126      -0.142554  0.294806    0.243187  0.671607   \n",
              "PaperlessBilling -0.011754       0.156530 -0.014877   -0.111377  0.006152   \n",
              "PaymentMethod     0.017352      -0.038551 -0.154798   -0.040292 -0.370436   \n",
              "MonthlyCharges   -0.014569       0.220173  0.096848   -0.113890  0.247900   \n",
              "TotalCharges      0.000048       0.102395  0.318812    0.064535  0.824757   \n",
              "Churn            -0.008612       0.150889 -0.150448   -0.164221 -0.352229   \n",
              "\n",
              "                  PhoneService  MultipleLines  InternetService  \\\n",
              "gender               -0.006488      -0.008414        -0.011286   \n",
              "SeniorCitizen         0.008576       0.142948         0.255338   \n",
              "Partner               0.017706       0.142057         0.000304   \n",
              "Dependents           -0.001762      -0.024526        -0.165818   \n",
              "tenure                0.008448       0.331941         0.019720   \n",
              "PhoneService          1.000000       0.279690         0.289999   \n",
              "MultipleLines         0.279690       1.000000         0.366083   \n",
              "InternetService       0.289999       0.366083         1.000000   \n",
              "OnlineSecurity       -0.092893       0.098108        -0.030696   \n",
              "OnlineBackup         -0.052312       0.202237         0.165651   \n",
              "DeviceProtection     -0.071227       0.201137         0.176049   \n",
              "TechSupport          -0.096340       0.100571        -0.020492   \n",
              "StreamingTV          -0.022574       0.257152         0.329349   \n",
              "StreamingMovies      -0.032959       0.258751         0.322923   \n",
              "Contract              0.002247       0.107114        -0.254157   \n",
              "PaperlessBilling      0.016505       0.163530         0.326853   \n",
              "PaymentMethod        -0.004184      -0.171026        -0.083868   \n",
              "MonthlyCharges        0.247398       0.490434         0.787066   \n",
              "TotalCharges          0.112851       0.468689         0.360547   \n",
              "Churn                 0.011942       0.040102         0.308020   \n",
              "\n",
              "                  OnlineSecurity  OnlineBackup  DeviceProtection  TechSupport  \\\n",
              "gender                 -0.017021     -0.013773         -0.002105    -0.009212   \n",
              "SeniorCitizen          -0.038653      0.066572          0.059428    -0.060625   \n",
              "Partner                 0.143106      0.141498          0.153786     0.119999   \n",
              "Dependents              0.080972      0.023671          0.013963     0.063268   \n",
              "tenure                  0.327203      0.360277          0.360653     0.324221   \n",
              "PhoneService           -0.092893     -0.052312         -0.071227    -0.096340   \n",
              "MultipleLines           0.098108      0.202237          0.201137     0.100571   \n",
              "InternetService        -0.030696      0.165651          0.176049    -0.020492   \n",
              "OnlineSecurity          1.000000      0.283832          0.275438     0.354931   \n",
              "OnlineBackup            0.283832      1.000000          0.303546     0.294233   \n",
              "DeviceProtection        0.275438      0.303546          1.000000     0.333313   \n",
              "TechSupport             0.354931      0.294233          0.333313     1.000000   \n",
              "StreamingTV             0.176207      0.282106          0.390874     0.278070   \n",
              "StreamingMovies         0.187398      0.274501          0.402111     0.279358   \n",
              "Contract                0.245530      0.155085          0.219310     0.293691   \n",
              "PaperlessBilling       -0.003636      0.126735          0.103797     0.037880   \n",
              "PaymentMethod          -0.150100     -0.170898         -0.181085    -0.157272   \n",
              "MonthlyCharges          0.296594      0.441780          0.482692     0.338304   \n",
              "TotalCharges            0.412245      0.509692          0.522462     0.432480   \n",
              "Churn                  -0.171226     -0.082255         -0.066160    -0.164674   \n",
              "\n",
              "                  StreamingTV  StreamingMovies  Contract  PaperlessBilling  \\\n",
              "gender              -0.008393        -0.010487  0.000126         -0.011754   \n",
              "SeniorCitizen        0.105378         0.120176 -0.142554          0.156530   \n",
              "Partner              0.124666         0.117412  0.294806         -0.014877   \n",
              "Dependents          -0.016558        -0.039741  0.243187         -0.111377   \n",
              "tenure               0.279756         0.286111  0.671607          0.006152   \n",
              "PhoneService        -0.022574        -0.032959  0.002247          0.016505   \n",
              "MultipleLines        0.257152         0.258751  0.107114          0.163530   \n",
              "InternetService      0.329349         0.322923 -0.254157          0.326853   \n",
              "OnlineSecurity       0.176207         0.187398  0.245530         -0.003636   \n",
              "OnlineBackup         0.282106         0.274501  0.155085          0.126735   \n",
              "DeviceProtection     0.390874         0.402111  0.219310          0.103797   \n",
              "TechSupport          0.278070         0.279358  0.293691          0.037880   \n",
              "StreamingTV          1.000000         0.533094  0.103944          0.223841   \n",
              "StreamingMovies      0.533094         1.000000  0.107520          0.211716   \n",
              "Contract             0.103944         0.107520  1.000000         -0.176733   \n",
              "PaperlessBilling     0.223841         0.211716 -0.176733          1.000000   \n",
              "PaymentMethod       -0.148865        -0.154984 -0.227543         -0.062904   \n",
              "MonthlyCharges       0.629603         0.627429 -0.074195          0.352150   \n",
              "TotalCharges         0.515314         0.519574  0.449511          0.157676   \n",
              "Churn                0.063228         0.061382 -0.396713          0.191825   \n",
              "\n",
              "                  PaymentMethod  MonthlyCharges  TotalCharges     Churn  \n",
              "gender                 0.017352       -0.014569      0.000048 -0.008612  \n",
              "SeniorCitizen         -0.038551        0.220173      0.102395  0.150889  \n",
              "Partner               -0.154798        0.096848      0.318812 -0.150448  \n",
              "Dependents            -0.040292       -0.113890      0.064535 -0.164221  \n",
              "tenure                -0.370436        0.247900      0.824757 -0.352229  \n",
              "PhoneService          -0.004184        0.247398      0.112851  0.011942  \n",
              "MultipleLines         -0.171026        0.490434      0.468689  0.040102  \n",
              "InternetService       -0.083868        0.787066      0.360547  0.308020  \n",
              "OnlineSecurity        -0.150100        0.296594      0.412245 -0.171226  \n",
              "OnlineBackup          -0.170898        0.441780      0.509692 -0.082255  \n",
              "DeviceProtection      -0.181085        0.482692      0.522462 -0.066160  \n",
              "TechSupport           -0.157272        0.338304      0.432480 -0.164674  \n",
              "StreamingTV           -0.148865        0.629603      0.515314  0.063228  \n",
              "StreamingMovies       -0.154984        0.627429      0.519574  0.061382  \n",
              "Contract              -0.227543       -0.074195      0.449511 -0.396713  \n",
              "PaperlessBilling      -0.062904        0.352150      0.157676  0.191825  \n",
              "PaymentMethod          1.000000       -0.193407     -0.330151  0.107062  \n",
              "MonthlyCharges        -0.193407        1.000000      0.650468  0.193356  \n",
              "TotalCharges          -0.330151        0.650468      1.000000 -0.199428  \n",
              "Churn                  0.107062        0.193356     -0.199428  1.000000  "
            ],
            "text/html": [
              "\n",
              "\n",
              "  <div id=\"df-2f1f537b-58aa-481c-9ec3-959477aa85e8\">\n",
              "    <div class=\"colab-df-container\">\n",
              "      <div>\n",
              "<style scoped>\n",
              "    .dataframe tbody tr th:only-of-type {\n",
              "        vertical-align: middle;\n",
              "    }\n",
              "\n",
              "    .dataframe tbody tr th {\n",
              "        vertical-align: top;\n",
              "    }\n",
              "\n",
              "    .dataframe thead th {\n",
              "        text-align: right;\n",
              "    }\n",
              "</style>\n",
              "<table border=\"1\" class=\"dataframe\">\n",
              "  <thead>\n",
              "    <tr style=\"text-align: right;\">\n",
              "      <th></th>\n",
              "      <th>gender</th>\n",
              "      <th>SeniorCitizen</th>\n",
              "      <th>Partner</th>\n",
              "      <th>Dependents</th>\n",
              "      <th>tenure</th>\n",
              "      <th>PhoneService</th>\n",
              "      <th>MultipleLines</th>\n",
              "      <th>InternetService</th>\n",
              "      <th>OnlineSecurity</th>\n",
              "      <th>OnlineBackup</th>\n",
              "      <th>DeviceProtection</th>\n",
              "      <th>TechSupport</th>\n",
              "      <th>StreamingTV</th>\n",
              "      <th>StreamingMovies</th>\n",
              "      <th>Contract</th>\n",
              "      <th>PaperlessBilling</th>\n",
              "      <th>PaymentMethod</th>\n",
              "      <th>MonthlyCharges</th>\n",
              "      <th>TotalCharges</th>\n",
              "      <th>Churn</th>\n",
              "    </tr>\n",
              "  </thead>\n",
              "  <tbody>\n",
              "    <tr>\n",
              "      <th>gender</th>\n",
              "      <td>1.000000</td>\n",
              "      <td>-0.001874</td>\n",
              "      <td>-0.001808</td>\n",
              "      <td>0.010517</td>\n",
              "      <td>0.005106</td>\n",
              "      <td>-0.006488</td>\n",
              "      <td>-0.008414</td>\n",
              "      <td>-0.011286</td>\n",
              "      <td>-0.017021</td>\n",
              "      <td>-0.013773</td>\n",
              "      <td>-0.002105</td>\n",
              "      <td>-0.009212</td>\n",
              "      <td>-0.008393</td>\n",
              "      <td>-0.010487</td>\n",
              "      <td>0.000126</td>\n",
              "      <td>-0.011754</td>\n",
              "      <td>0.017352</td>\n",
              "      <td>-0.014569</td>\n",
              "      <td>0.000048</td>\n",
              "      <td>-0.008612</td>\n",
              "    </tr>\n",
              "    <tr>\n",
              "      <th>SeniorCitizen</th>\n",
              "      <td>-0.001874</td>\n",
              "      <td>1.000000</td>\n",
              "      <td>0.016479</td>\n",
              "      <td>-0.211185</td>\n",
              "      <td>0.016567</td>\n",
              "      <td>0.008576</td>\n",
              "      <td>0.142948</td>\n",
              "      <td>0.255338</td>\n",
              "      <td>-0.038653</td>\n",
              "      <td>0.066572</td>\n",
              "      <td>0.059428</td>\n",
              "      <td>-0.060625</td>\n",
              "      <td>0.105378</td>\n",
              "      <td>0.120176</td>\n",
              "      <td>-0.142554</td>\n",
              "      <td>0.156530</td>\n",
              "      <td>-0.038551</td>\n",
              "      <td>0.220173</td>\n",
              "      <td>0.102395</td>\n",
              "      <td>0.150889</td>\n",
              "    </tr>\n",
              "    <tr>\n",
              "      <th>Partner</th>\n",
              "      <td>-0.001808</td>\n",
              "      <td>0.016479</td>\n",
              "      <td>1.000000</td>\n",
              "      <td>0.452676</td>\n",
              "      <td>0.379697</td>\n",
              "      <td>0.017706</td>\n",
              "      <td>0.142057</td>\n",
              "      <td>0.000304</td>\n",
              "      <td>0.143106</td>\n",
              "      <td>0.141498</td>\n",
              "      <td>0.153786</td>\n",
              "      <td>0.119999</td>\n",
              "      <td>0.124666</td>\n",
              "      <td>0.117412</td>\n",
              "      <td>0.294806</td>\n",
              "      <td>-0.014877</td>\n",
              "      <td>-0.154798</td>\n",
              "      <td>0.096848</td>\n",
              "      <td>0.318812</td>\n",
              "      <td>-0.150448</td>\n",
              "    </tr>\n",
              "    <tr>\n",
              "      <th>Dependents</th>\n",
              "      <td>0.010517</td>\n",
              "      <td>-0.211185</td>\n",
              "      <td>0.452676</td>\n",
              "      <td>1.000000</td>\n",
              "      <td>0.159712</td>\n",
              "      <td>-0.001762</td>\n",
              "      <td>-0.024526</td>\n",
              "      <td>-0.165818</td>\n",
              "      <td>0.080972</td>\n",
              "      <td>0.023671</td>\n",
              "      <td>0.013963</td>\n",
              "      <td>0.063268</td>\n",
              "      <td>-0.016558</td>\n",
              "      <td>-0.039741</td>\n",
              "      <td>0.243187</td>\n",
              "      <td>-0.111377</td>\n",
              "      <td>-0.040292</td>\n",
              "      <td>-0.113890</td>\n",
              "      <td>0.064535</td>\n",
              "      <td>-0.164221</td>\n",
              "    </tr>\n",
              "    <tr>\n",
              "      <th>tenure</th>\n",
              "      <td>0.005106</td>\n",
              "      <td>0.016567</td>\n",
              "      <td>0.379697</td>\n",
              "      <td>0.159712</td>\n",
              "      <td>1.000000</td>\n",
              "      <td>0.008448</td>\n",
              "      <td>0.331941</td>\n",
              "      <td>0.019720</td>\n",
              "      <td>0.327203</td>\n",
              "      <td>0.360277</td>\n",
              "      <td>0.360653</td>\n",
              "      <td>0.324221</td>\n",
              "      <td>0.279756</td>\n",
              "      <td>0.286111</td>\n",
              "      <td>0.671607</td>\n",
              "      <td>0.006152</td>\n",
              "      <td>-0.370436</td>\n",
              "      <td>0.247900</td>\n",
              "      <td>0.824757</td>\n",
              "      <td>-0.352229</td>\n",
              "    </tr>\n",
              "    <tr>\n",
              "      <th>PhoneService</th>\n",
              "      <td>-0.006488</td>\n",
              "      <td>0.008576</td>\n",
              "      <td>0.017706</td>\n",
              "      <td>-0.001762</td>\n",
              "      <td>0.008448</td>\n",
              "      <td>1.000000</td>\n",
              "      <td>0.279690</td>\n",
              "      <td>0.289999</td>\n",
              "      <td>-0.092893</td>\n",
              "      <td>-0.052312</td>\n",
              "      <td>-0.071227</td>\n",
              "      <td>-0.096340</td>\n",
              "      <td>-0.022574</td>\n",
              "      <td>-0.032959</td>\n",
              "      <td>0.002247</td>\n",
              "      <td>0.016505</td>\n",
              "      <td>-0.004184</td>\n",
              "      <td>0.247398</td>\n",
              "      <td>0.112851</td>\n",
              "      <td>0.011942</td>\n",
              "    </tr>\n",
              "    <tr>\n",
              "      <th>MultipleLines</th>\n",
              "      <td>-0.008414</td>\n",
              "      <td>0.142948</td>\n",
              "      <td>0.142057</td>\n",
              "      <td>-0.024526</td>\n",
              "      <td>0.331941</td>\n",
              "      <td>0.279690</td>\n",
              "      <td>1.000000</td>\n",
              "      <td>0.366083</td>\n",
              "      <td>0.098108</td>\n",
              "      <td>0.202237</td>\n",
              "      <td>0.201137</td>\n",
              "      <td>0.100571</td>\n",
              "      <td>0.257152</td>\n",
              "      <td>0.258751</td>\n",
              "      <td>0.107114</td>\n",
              "      <td>0.163530</td>\n",
              "      <td>-0.171026</td>\n",
              "      <td>0.490434</td>\n",
              "      <td>0.468689</td>\n",
              "      <td>0.040102</td>\n",
              "    </tr>\n",
              "    <tr>\n",
              "      <th>InternetService</th>\n",
              "      <td>-0.011286</td>\n",
              "      <td>0.255338</td>\n",
              "      <td>0.000304</td>\n",
              "      <td>-0.165818</td>\n",
              "      <td>0.019720</td>\n",
              "      <td>0.289999</td>\n",
              "      <td>0.366083</td>\n",
              "      <td>1.000000</td>\n",
              "      <td>-0.030696</td>\n",
              "      <td>0.165651</td>\n",
              "      <td>0.176049</td>\n",
              "      <td>-0.020492</td>\n",
              "      <td>0.329349</td>\n",
              "      <td>0.322923</td>\n",
              "      <td>-0.254157</td>\n",
              "      <td>0.326853</td>\n",
              "      <td>-0.083868</td>\n",
              "      <td>0.787066</td>\n",
              "      <td>0.360547</td>\n",
              "      <td>0.308020</td>\n",
              "    </tr>\n",
              "    <tr>\n",
              "      <th>OnlineSecurity</th>\n",
              "      <td>-0.017021</td>\n",
              "      <td>-0.038653</td>\n",
              "      <td>0.143106</td>\n",
              "      <td>0.080972</td>\n",
              "      <td>0.327203</td>\n",
              "      <td>-0.092893</td>\n",
              "      <td>0.098108</td>\n",
              "      <td>-0.030696</td>\n",
              "      <td>1.000000</td>\n",
              "      <td>0.283832</td>\n",
              "      <td>0.275438</td>\n",
              "      <td>0.354931</td>\n",
              "      <td>0.176207</td>\n",
              "      <td>0.187398</td>\n",
              "      <td>0.245530</td>\n",
              "      <td>-0.003636</td>\n",
              "      <td>-0.150100</td>\n",
              "      <td>0.296594</td>\n",
              "      <td>0.412245</td>\n",
              "      <td>-0.171226</td>\n",
              "    </tr>\n",
              "    <tr>\n",
              "      <th>OnlineBackup</th>\n",
              "      <td>-0.013773</td>\n",
              "      <td>0.066572</td>\n",
              "      <td>0.141498</td>\n",
              "      <td>0.023671</td>\n",
              "      <td>0.360277</td>\n",
              "      <td>-0.052312</td>\n",
              "      <td>0.202237</td>\n",
              "      <td>0.165651</td>\n",
              "      <td>0.283832</td>\n",
              "      <td>1.000000</td>\n",
              "      <td>0.303546</td>\n",
              "      <td>0.294233</td>\n",
              "      <td>0.282106</td>\n",
              "      <td>0.274501</td>\n",
              "      <td>0.155085</td>\n",
              "      <td>0.126735</td>\n",
              "      <td>-0.170898</td>\n",
              "      <td>0.441780</td>\n",
              "      <td>0.509692</td>\n",
              "      <td>-0.082255</td>\n",
              "    </tr>\n",
              "    <tr>\n",
              "      <th>DeviceProtection</th>\n",
              "      <td>-0.002105</td>\n",
              "      <td>0.059428</td>\n",
              "      <td>0.153786</td>\n",
              "      <td>0.013963</td>\n",
              "      <td>0.360653</td>\n",
              "      <td>-0.071227</td>\n",
              "      <td>0.201137</td>\n",
              "      <td>0.176049</td>\n",
              "      <td>0.275438</td>\n",
              "      <td>0.303546</td>\n",
              "      <td>1.000000</td>\n",
              "      <td>0.333313</td>\n",
              "      <td>0.390874</td>\n",
              "      <td>0.402111</td>\n",
              "      <td>0.219310</td>\n",
              "      <td>0.103797</td>\n",
              "      <td>-0.181085</td>\n",
              "      <td>0.482692</td>\n",
              "      <td>0.522462</td>\n",
              "      <td>-0.066160</td>\n",
              "    </tr>\n",
              "    <tr>\n",
              "      <th>TechSupport</th>\n",
              "      <td>-0.009212</td>\n",
              "      <td>-0.060625</td>\n",
              "      <td>0.119999</td>\n",
              "      <td>0.063268</td>\n",
              "      <td>0.324221</td>\n",
              "      <td>-0.096340</td>\n",
              "      <td>0.100571</td>\n",
              "      <td>-0.020492</td>\n",
              "      <td>0.354931</td>\n",
              "      <td>0.294233</td>\n",
              "      <td>0.333313</td>\n",
              "      <td>1.000000</td>\n",
              "      <td>0.278070</td>\n",
              "      <td>0.279358</td>\n",
              "      <td>0.293691</td>\n",
              "      <td>0.037880</td>\n",
              "      <td>-0.157272</td>\n",
              "      <td>0.338304</td>\n",
              "      <td>0.432480</td>\n",
              "      <td>-0.164674</td>\n",
              "    </tr>\n",
              "    <tr>\n",
              "      <th>StreamingTV</th>\n",
              "      <td>-0.008393</td>\n",
              "      <td>0.105378</td>\n",
              "      <td>0.124666</td>\n",
              "      <td>-0.016558</td>\n",
              "      <td>0.279756</td>\n",
              "      <td>-0.022574</td>\n",
              "      <td>0.257152</td>\n",
              "      <td>0.329349</td>\n",
              "      <td>0.176207</td>\n",
              "      <td>0.282106</td>\n",
              "      <td>0.390874</td>\n",
              "      <td>0.278070</td>\n",
              "      <td>1.000000</td>\n",
              "      <td>0.533094</td>\n",
              "      <td>0.103944</td>\n",
              "      <td>0.223841</td>\n",
              "      <td>-0.148865</td>\n",
              "      <td>0.629603</td>\n",
              "      <td>0.515314</td>\n",
              "      <td>0.063228</td>\n",
              "    </tr>\n",
              "    <tr>\n",
              "      <th>StreamingMovies</th>\n",
              "      <td>-0.010487</td>\n",
              "      <td>0.120176</td>\n",
              "      <td>0.117412</td>\n",
              "      <td>-0.039741</td>\n",
              "      <td>0.286111</td>\n",
              "      <td>-0.032959</td>\n",
              "      <td>0.258751</td>\n",
              "      <td>0.322923</td>\n",
              "      <td>0.187398</td>\n",
              "      <td>0.274501</td>\n",
              "      <td>0.402111</td>\n",
              "      <td>0.279358</td>\n",
              "      <td>0.533094</td>\n",
              "      <td>1.000000</td>\n",
              "      <td>0.107520</td>\n",
              "      <td>0.211716</td>\n",
              "      <td>-0.154984</td>\n",
              "      <td>0.627429</td>\n",
              "      <td>0.519574</td>\n",
              "      <td>0.061382</td>\n",
              "    </tr>\n",
              "    <tr>\n",
              "      <th>Contract</th>\n",
              "      <td>0.000126</td>\n",
              "      <td>-0.142554</td>\n",
              "      <td>0.294806</td>\n",
              "      <td>0.243187</td>\n",
              "      <td>0.671607</td>\n",
              "      <td>0.002247</td>\n",
              "      <td>0.107114</td>\n",
              "      <td>-0.254157</td>\n",
              "      <td>0.245530</td>\n",
              "      <td>0.155085</td>\n",
              "      <td>0.219310</td>\n",
              "      <td>0.293691</td>\n",
              "      <td>0.103944</td>\n",
              "      <td>0.107520</td>\n",
              "      <td>1.000000</td>\n",
              "      <td>-0.176733</td>\n",
              "      <td>-0.227543</td>\n",
              "      <td>-0.074195</td>\n",
              "      <td>0.449511</td>\n",
              "      <td>-0.396713</td>\n",
              "    </tr>\n",
              "    <tr>\n",
              "      <th>PaperlessBilling</th>\n",
              "      <td>-0.011754</td>\n",
              "      <td>0.156530</td>\n",
              "      <td>-0.014877</td>\n",
              "      <td>-0.111377</td>\n",
              "      <td>0.006152</td>\n",
              "      <td>0.016505</td>\n",
              "      <td>0.163530</td>\n",
              "      <td>0.326853</td>\n",
              "      <td>-0.003636</td>\n",
              "      <td>0.126735</td>\n",
              "      <td>0.103797</td>\n",
              "      <td>0.037880</td>\n",
              "      <td>0.223841</td>\n",
              "      <td>0.211716</td>\n",
              "      <td>-0.176733</td>\n",
              "      <td>1.000000</td>\n",
              "      <td>-0.062904</td>\n",
              "      <td>0.352150</td>\n",
              "      <td>0.157676</td>\n",
              "      <td>0.191825</td>\n",
              "    </tr>\n",
              "    <tr>\n",
              "      <th>PaymentMethod</th>\n",
              "      <td>0.017352</td>\n",
              "      <td>-0.038551</td>\n",
              "      <td>-0.154798</td>\n",
              "      <td>-0.040292</td>\n",
              "      <td>-0.370436</td>\n",
              "      <td>-0.004184</td>\n",
              "      <td>-0.171026</td>\n",
              "      <td>-0.083868</td>\n",
              "      <td>-0.150100</td>\n",
              "      <td>-0.170898</td>\n",
              "      <td>-0.181085</td>\n",
              "      <td>-0.157272</td>\n",
              "      <td>-0.148865</td>\n",
              "      <td>-0.154984</td>\n",
              "      <td>-0.227543</td>\n",
              "      <td>-0.062904</td>\n",
              "      <td>1.000000</td>\n",
              "      <td>-0.193407</td>\n",
              "      <td>-0.330151</td>\n",
              "      <td>0.107062</td>\n",
              "    </tr>\n",
              "    <tr>\n",
              "      <th>MonthlyCharges</th>\n",
              "      <td>-0.014569</td>\n",
              "      <td>0.220173</td>\n",
              "      <td>0.096848</td>\n",
              "      <td>-0.113890</td>\n",
              "      <td>0.247900</td>\n",
              "      <td>0.247398</td>\n",
              "      <td>0.490434</td>\n",
              "      <td>0.787066</td>\n",
              "      <td>0.296594</td>\n",
              "      <td>0.441780</td>\n",
              "      <td>0.482692</td>\n",
              "      <td>0.338304</td>\n",
              "      <td>0.629603</td>\n",
              "      <td>0.627429</td>\n",
              "      <td>-0.074195</td>\n",
              "      <td>0.352150</td>\n",
              "      <td>-0.193407</td>\n",
              "      <td>1.000000</td>\n",
              "      <td>0.650468</td>\n",
              "      <td>0.193356</td>\n",
              "    </tr>\n",
              "    <tr>\n",
              "      <th>TotalCharges</th>\n",
              "      <td>0.000048</td>\n",
              "      <td>0.102395</td>\n",
              "      <td>0.318812</td>\n",
              "      <td>0.064535</td>\n",
              "      <td>0.824757</td>\n",
              "      <td>0.112851</td>\n",
              "      <td>0.468689</td>\n",
              "      <td>0.360547</td>\n",
              "      <td>0.412245</td>\n",
              "      <td>0.509692</td>\n",
              "      <td>0.522462</td>\n",
              "      <td>0.432480</td>\n",
              "      <td>0.515314</td>\n",
              "      <td>0.519574</td>\n",
              "      <td>0.449511</td>\n",
              "      <td>0.157676</td>\n",
              "      <td>-0.330151</td>\n",
              "      <td>0.650468</td>\n",
              "      <td>1.000000</td>\n",
              "      <td>-0.199428</td>\n",
              "    </tr>\n",
              "    <tr>\n",
              "      <th>Churn</th>\n",
              "      <td>-0.008612</td>\n",
              "      <td>0.150889</td>\n",
              "      <td>-0.150448</td>\n",
              "      <td>-0.164221</td>\n",
              "      <td>-0.352229</td>\n",
              "      <td>0.011942</td>\n",
              "      <td>0.040102</td>\n",
              "      <td>0.308020</td>\n",
              "      <td>-0.171226</td>\n",
              "      <td>-0.082255</td>\n",
              "      <td>-0.066160</td>\n",
              "      <td>-0.164674</td>\n",
              "      <td>0.063228</td>\n",
              "      <td>0.061382</td>\n",
              "      <td>-0.396713</td>\n",
              "      <td>0.191825</td>\n",
              "      <td>0.107062</td>\n",
              "      <td>0.193356</td>\n",
              "      <td>-0.199428</td>\n",
              "      <td>1.000000</td>\n",
              "    </tr>\n",
              "  </tbody>\n",
              "</table>\n",
              "</div>\n",
              "      <button class=\"colab-df-convert\" onclick=\"convertToInteractive('df-2f1f537b-58aa-481c-9ec3-959477aa85e8')\"\n",
              "              title=\"Convert this dataframe to an interactive table.\"\n",
              "              style=\"display:none;\">\n",
              "\n",
              "  <svg xmlns=\"http://www.w3.org/2000/svg\" height=\"24px\"viewBox=\"0 0 24 24\"\n",
              "       width=\"24px\">\n",
              "    <path d=\"M0 0h24v24H0V0z\" fill=\"none\"/>\n",
              "    <path d=\"M18.56 5.44l.94 2.06.94-2.06 2.06-.94-2.06-.94-.94-2.06-.94 2.06-2.06.94zm-11 1L8.5 8.5l.94-2.06 2.06-.94-2.06-.94L8.5 2.5l-.94 2.06-2.06.94zm10 10l.94 2.06.94-2.06 2.06-.94-2.06-.94-.94-2.06-.94 2.06-2.06.94z\"/><path d=\"M17.41 7.96l-1.37-1.37c-.4-.4-.92-.59-1.43-.59-.52 0-1.04.2-1.43.59L10.3 9.45l-7.72 7.72c-.78.78-.78 2.05 0 2.83L4 21.41c.39.39.9.59 1.41.59.51 0 1.02-.2 1.41-.59l7.78-7.78 2.81-2.81c.8-.78.8-2.07 0-2.86zM5.41 20L4 18.59l7.72-7.72 1.47 1.35L5.41 20z\"/>\n",
              "  </svg>\n",
              "      </button>\n",
              "\n",
              "\n",
              "\n",
              "    <div id=\"df-6630ddbc-cb5e-46f8-9528-5b3f081425b7\">\n",
              "      <button class=\"colab-df-quickchart\" onclick=\"quickchart('df-6630ddbc-cb5e-46f8-9528-5b3f081425b7')\"\n",
              "              title=\"Suggest charts.\"\n",
              "              style=\"display:none;\">\n",
              "\n",
              "<svg xmlns=\"http://www.w3.org/2000/svg\" height=\"24px\"viewBox=\"0 0 24 24\"\n",
              "     width=\"24px\">\n",
              "    <g>\n",
              "        <path d=\"M19 3H5c-1.1 0-2 .9-2 2v14c0 1.1.9 2 2 2h14c1.1 0 2-.9 2-2V5c0-1.1-.9-2-2-2zM9 17H7v-7h2v7zm4 0h-2V7h2v10zm4 0h-2v-4h2v4z\"/>\n",
              "    </g>\n",
              "</svg>\n",
              "      </button>\n",
              "    </div>\n",
              "\n",
              "<style>\n",
              "  .colab-df-quickchart {\n",
              "    background-color: #E8F0FE;\n",
              "    border: none;\n",
              "    border-radius: 50%;\n",
              "    cursor: pointer;\n",
              "    display: none;\n",
              "    fill: #1967D2;\n",
              "    height: 32px;\n",
              "    padding: 0 0 0 0;\n",
              "    width: 32px;\n",
              "  }\n",
              "\n",
              "  .colab-df-quickchart:hover {\n",
              "    background-color: #E2EBFA;\n",
              "    box-shadow: 0px 1px 2px rgba(60, 64, 67, 0.3), 0px 1px 3px 1px rgba(60, 64, 67, 0.15);\n",
              "    fill: #174EA6;\n",
              "  }\n",
              "\n",
              "  [theme=dark] .colab-df-quickchart {\n",
              "    background-color: #3B4455;\n",
              "    fill: #D2E3FC;\n",
              "  }\n",
              "\n",
              "  [theme=dark] .colab-df-quickchart:hover {\n",
              "    background-color: #434B5C;\n",
              "    box-shadow: 0px 1px 3px 1px rgba(0, 0, 0, 0.15);\n",
              "    filter: drop-shadow(0px 1px 2px rgba(0, 0, 0, 0.3));\n",
              "    fill: #FFFFFF;\n",
              "  }\n",
              "</style>\n",
              "\n",
              "    <script>\n",
              "      async function quickchart(key) {\n",
              "        const containerElement = document.querySelector('#' + key);\n",
              "        const charts = await google.colab.kernel.invokeFunction(\n",
              "            'suggestCharts', [key], {});\n",
              "      }\n",
              "    </script>\n",
              "\n",
              "      <script>\n",
              "\n",
              "function displayQuickchartButton(domScope) {\n",
              "  let quickchartButtonEl =\n",
              "    domScope.querySelector('#df-6630ddbc-cb5e-46f8-9528-5b3f081425b7 button.colab-df-quickchart');\n",
              "  quickchartButtonEl.style.display =\n",
              "    google.colab.kernel.accessAllowed ? 'block' : 'none';\n",
              "}\n",
              "\n",
              "        displayQuickchartButton(document);\n",
              "      </script>\n",
              "      <style>\n",
              "    .colab-df-container {\n",
              "      display:flex;\n",
              "      flex-wrap:wrap;\n",
              "      gap: 12px;\n",
              "    }\n",
              "\n",
              "    .colab-df-convert {\n",
              "      background-color: #E8F0FE;\n",
              "      border: none;\n",
              "      border-radius: 50%;\n",
              "      cursor: pointer;\n",
              "      display: none;\n",
              "      fill: #1967D2;\n",
              "      height: 32px;\n",
              "      padding: 0 0 0 0;\n",
              "      width: 32px;\n",
              "    }\n",
              "\n",
              "    .colab-df-convert:hover {\n",
              "      background-color: #E2EBFA;\n",
              "      box-shadow: 0px 1px 2px rgba(60, 64, 67, 0.3), 0px 1px 3px 1px rgba(60, 64, 67, 0.15);\n",
              "      fill: #174EA6;\n",
              "    }\n",
              "\n",
              "    [theme=dark] .colab-df-convert {\n",
              "      background-color: #3B4455;\n",
              "      fill: #D2E3FC;\n",
              "    }\n",
              "\n",
              "    [theme=dark] .colab-df-convert:hover {\n",
              "      background-color: #434B5C;\n",
              "      box-shadow: 0px 1px 3px 1px rgba(0, 0, 0, 0.15);\n",
              "      filter: drop-shadow(0px 1px 2px rgba(0, 0, 0, 0.3));\n",
              "      fill: #FFFFFF;\n",
              "    }\n",
              "  </style>\n",
              "\n",
              "      <script>\n",
              "        const buttonEl =\n",
              "          document.querySelector('#df-2f1f537b-58aa-481c-9ec3-959477aa85e8 button.colab-df-convert');\n",
              "        buttonEl.style.display =\n",
              "          google.colab.kernel.accessAllowed ? 'block' : 'none';\n",
              "\n",
              "        async function convertToInteractive(key) {\n",
              "          const element = document.querySelector('#df-2f1f537b-58aa-481c-9ec3-959477aa85e8');\n",
              "          const dataTable =\n",
              "            await google.colab.kernel.invokeFunction('convertToInteractive',\n",
              "                                                     [key], {});\n",
              "          if (!dataTable) return;\n",
              "\n",
              "          const docLinkHtml = 'Like what you see? Visit the ' +\n",
              "            '<a target=\"_blank\" href=https://colab.research.google.com/notebooks/data_table.ipynb>data table notebook</a>'\n",
              "            + ' to learn more about interactive tables.';\n",
              "          element.innerHTML = '';\n",
              "          dataTable['output_type'] = 'display_data';\n",
              "          await google.colab.output.renderOutput(dataTable, element);\n",
              "          const docLink = document.createElement('div');\n",
              "          docLink.innerHTML = docLinkHtml;\n",
              "          element.appendChild(docLink);\n",
              "        }\n",
              "      </script>\n",
              "    </div>\n",
              "  </div>\n"
            ]
          },
          "metadata": {},
          "execution_count": 13
        }
      ],
      "source": [
        "#print correlation matrix to find which attributes are strongly correlated with output\n",
        "df.corr()"
      ]
    },
    {
      "cell_type": "code",
      "execution_count": null,
      "metadata": {
        "id": "LNLl4yJIe-S8"
      },
      "outputs": [],
      "source": [
        "# independent and dependent variables\n",
        "#x = df.drop('Churn',axis=1)\n",
        "x = df.drop(['Churn', 'PhoneService', 'MultipleLines', 'OnlineBackup', 'DeviceProtection', 'StreamingTV', 'StreamingMovies'], axis=1)\n",
        "y = df['Churn']"
      ]
    },
    {
      "cell_type": "code",
      "execution_count": null,
      "metadata": {
        "colab": {
          "base_uri": "https://localhost:8080/"
        },
        "id": "BaLydEeofCsi",
        "outputId": "07278ef4-286c-4c92-f3a5-1c4a7d034674"
      },
      "outputs": [
        {
          "output_type": "stream",
          "name": "stdout",
          "text": [
            "(5634, 13)\n",
            "(1409, 13)\n"
          ]
        }
      ],
      "source": [
        "from sklearn.model_selection import train_test_split\n",
        "X_train,X_test,y_train,y_test = train_test_split(x,y,test_size=0.2,random_state=10, shuffle=True)\n",
        "print(X_train.shape)\n",
        "print(X_test.shape)"
      ]
    },
    {
      "cell_type": "code",
      "execution_count": null,
      "metadata": {
        "id": "f5yTuofyoJ4U"
      },
      "outputs": [],
      "source": [
        "def build_model(hp):\n",
        "  model = Sequential()\n",
        "  model.add(Dense(units = hp.Int('Dense1_neurons',min_value=3,max_value=5,step=2), input_shape=(13,), activation= 'relu'))\n",
        "  model.add(LayerNormalization())\n",
        "  model.add(Dropout(rate = hp.Float('D1_rate',min_value=.01,max_value=0.02,step=.01)))\n",
        "  model.add(Dense(units = hp.Int('Dense2_neurons',min_value=3,max_value=5,step=2), activation= 'relu'))\n",
        "  model.add(LayerNormalization())\n",
        "  model.add(Dropout(rate = hp.Float('D2_rate',min_value=.01,max_value=0.02,step=.01)))\n",
        "  model.add(Dense(units = hp.Int('Dense3_neurons',min_value=3,max_value=5,step=2), activation= 'relu'))\n",
        "  model.add(LayerNormalization())\n",
        "  model.add(Dropout(rate = hp.Float('D3_rate',min_value=.01,max_value=0.02,step=.01)))\n",
        "  model.add(Dense(units = hp.Int('Dense4_neurons',min_value=18,max_value=20,step=2), activation= 'relu'))\n",
        "  model.add(LayerNormalization())\n",
        "  model.add(Dense(1, activation='sigmoid'))\n",
        " # Compile model\n",
        "  model.compile(loss='binary_crossentropy', optimizer='adam', metrics=['accuracy'])\n",
        "  return model\n",
        "\n",
        "model_a = build_model"
      ]
    },
    {
      "cell_type": "markdown",
      "source": [
        "5, 0.01, 5, .01, 15, .01, 20"
      ],
      "metadata": {
        "id": "8gyxf9O59Vvb"
      }
    },
    {
      "cell_type": "code",
      "execution_count": null,
      "metadata": {
        "colab": {
          "base_uri": "https://localhost:8080/"
        },
        "id": "szcTBNlHy2YT",
        "outputId": "f96cca76-c9cd-47e7-c6d4-b8ffaf733d8d"
      },
      "outputs": [
        {
          "output_type": "stream",
          "name": "stdout",
          "text": [
            "Trial 30 Complete [00h 01m 58s]\n",
            "val_accuracy: 0.7728482484817505\n",
            "\n",
            "Best val_accuracy So Far: 0.8047915101051331\n",
            "Total elapsed time: 00h 31m 41s\n"
          ]
        }
      ],
      "source": [
        "import keras_tuner as kt\n",
        "\n",
        "tuner = kt.GridSearch(model_a,\n",
        "                     objective='val_accuracy',\n",
        "                     max_trials=30,\n",
        "                     directory='/content/drive/MyDrive/Colab Notebooks/model tuning',\n",
        "                     project_name='RNN modele')\n",
        "stop_early = tf.keras.callbacks.EarlyStopping(monitor='val_loss', patience=10)\n",
        "\n",
        "tuner.search(X_train, y_train, epochs=100, validation_split=0.2, callbacks=[stop_early])"
      ]
    },
    {
      "cell_type": "code",
      "execution_count": null,
      "metadata": {
        "id": "5DrJ2wgKy-uL",
        "colab": {
          "base_uri": "https://localhost:8080/"
        },
        "outputId": "45096b1d-e39b-4bab-8397-ffb0bc0d24eb"
      },
      "outputs": [
        {
          "output_type": "stream",
          "name": "stdout",
          "text": [
            "Dense 1 nerons 3\n",
            "Dense 2 nerons 5\n",
            "Dense 2 nerons 3\n",
            "Dense 2 nerons 20\n",
            "D1 rate 0.01\n",
            "D1 rate 0.01\n",
            "D1 rate 0.02\n"
          ]
        }
      ],
      "source": [
        "# Get the optimal hyperparameters\n",
        "best_hps=tuner.get_best_hyperparameters(num_trials=1)[0]\n",
        "\n",
        "print(\"Dense 1 nerons\", best_hps.get('Dense1_neurons'))\n",
        "print(\"Dense 2 nerons\", best_hps.get('Dense2_neurons'))\n",
        "print(\"Dense 2 nerons\", best_hps.get('Dense3_neurons'))\n",
        "print(\"Dense 2 nerons\", best_hps.get('Dense4_neurons'))\n",
        "print(\"D1 rate\", best_hps.get('D1_rate'))\n",
        "print(\"D1 rate\", best_hps.get('D2_rate'))\n",
        "print(\"D1 rate\", best_hps.get('D3_rate'))"
      ]
    },
    {
      "cell_type": "markdown",
      "metadata": {
        "id": "LN18sPorULR6"
      },
      "source": [
        "Dense 1 nerons 5\n",
        "Dense 2 nerons 5\n",
        "D1 rate 0.01"
      ]
    },
    {
      "cell_type": "code",
      "execution_count": null,
      "metadata": {
        "id": "rrlSyVoRzfy0",
        "colab": {
          "base_uri": "https://localhost:8080/"
        },
        "outputId": "cb92f158-bf18-4131-eab5-36beb860764f"
      },
      "outputs": [
        {
          "output_type": "stream",
          "name": "stdout",
          "text": [
            "Epoch 1/50\n",
            "141/141 [==============================] - 5s 9ms/step - loss: 0.6073 - accuracy: 0.7167 - val_loss: 0.5999 - val_accuracy: 0.7196\n",
            "Epoch 2/50\n",
            "141/141 [==============================] - 1s 7ms/step - loss: 0.5845 - accuracy: 0.7286 - val_loss: 0.5948 - val_accuracy: 0.7196\n",
            "Epoch 3/50\n",
            "141/141 [==============================] - 1s 6ms/step - loss: 0.5845 - accuracy: 0.7313 - val_loss: 0.5932 - val_accuracy: 0.7196\n",
            "Epoch 4/50\n",
            "141/141 [==============================] - 1s 7ms/step - loss: 0.5841 - accuracy: 0.7313 - val_loss: 0.5962 - val_accuracy: 0.7196\n",
            "Epoch 5/50\n",
            "141/141 [==============================] - 1s 7ms/step - loss: 0.5834 - accuracy: 0.7313 - val_loss: 0.5935 - val_accuracy: 0.7196\n",
            "Epoch 6/50\n",
            "141/141 [==============================] - 1s 7ms/step - loss: 0.5833 - accuracy: 0.7313 - val_loss: 0.5988 - val_accuracy: 0.7196\n",
            "Epoch 7/50\n",
            "141/141 [==============================] - 1s 9ms/step - loss: 0.5840 - accuracy: 0.7315 - val_loss: 0.5934 - val_accuracy: 0.7196\n",
            "Epoch 8/50\n",
            "141/141 [==============================] - 1s 9ms/step - loss: 0.5829 - accuracy: 0.7315 - val_loss: 0.5941 - val_accuracy: 0.7196\n",
            "Epoch 9/50\n",
            "141/141 [==============================] - 1s 8ms/step - loss: 0.5824 - accuracy: 0.7315 - val_loss: 0.5954 - val_accuracy: 0.7196\n",
            "Epoch 10/50\n",
            "141/141 [==============================] - 1s 6ms/step - loss: 0.5830 - accuracy: 0.7313 - val_loss: 0.5935 - val_accuracy: 0.7196\n",
            "Epoch 11/50\n",
            "141/141 [==============================] - 1s 6ms/step - loss: 0.5835 - accuracy: 0.7315 - val_loss: 0.5934 - val_accuracy: 0.7196\n",
            "Epoch 12/50\n",
            "141/141 [==============================] - 1s 6ms/step - loss: 0.5838 - accuracy: 0.7315 - val_loss: 0.5947 - val_accuracy: 0.7196\n",
            "Epoch 13/50\n",
            "141/141 [==============================] - 1s 6ms/step - loss: 0.5818 - accuracy: 0.7318 - val_loss: 0.5934 - val_accuracy: 0.7196\n",
            "Epoch 14/50\n",
            "141/141 [==============================] - 1s 7ms/step - loss: 0.5819 - accuracy: 0.7313 - val_loss: 0.6006 - val_accuracy: 0.7196\n",
            "Epoch 15/50\n",
            "141/141 [==============================] - 1s 7ms/step - loss: 0.5815 - accuracy: 0.7315 - val_loss: 0.5903 - val_accuracy: 0.7196\n",
            "Epoch 16/50\n",
            "141/141 [==============================] - 1s 7ms/step - loss: 0.5713 - accuracy: 0.7320 - val_loss: 0.5831 - val_accuracy: 0.7196\n",
            "Epoch 17/50\n",
            "141/141 [==============================] - 1s 7ms/step - loss: 0.5632 - accuracy: 0.7289 - val_loss: 0.5559 - val_accuracy: 0.7196\n",
            "Epoch 18/50\n",
            "141/141 [==============================] - 1s 7ms/step - loss: 0.5396 - accuracy: 0.7289 - val_loss: 0.5279 - val_accuracy: 0.7196\n",
            "Epoch 19/50\n",
            "141/141 [==============================] - 1s 8ms/step - loss: 0.5211 - accuracy: 0.7322 - val_loss: 0.5066 - val_accuracy: 0.7294\n",
            "Epoch 20/50\n",
            "141/141 [==============================] - 1s 10ms/step - loss: 0.5036 - accuracy: 0.7360 - val_loss: 0.4964 - val_accuracy: 0.7365\n",
            "Epoch 21/50\n",
            "141/141 [==============================] - 1s 9ms/step - loss: 0.4991 - accuracy: 0.7384 - val_loss: 0.4887 - val_accuracy: 0.7338\n",
            "Epoch 22/50\n",
            "141/141 [==============================] - 1s 6ms/step - loss: 0.4951 - accuracy: 0.7340 - val_loss: 0.4830 - val_accuracy: 0.7427\n",
            "Epoch 23/50\n",
            "141/141 [==============================] - 1s 7ms/step - loss: 0.4888 - accuracy: 0.7382 - val_loss: 0.4871 - val_accuracy: 0.7276\n",
            "Epoch 24/50\n",
            "141/141 [==============================] - 1s 7ms/step - loss: 0.4846 - accuracy: 0.7424 - val_loss: 0.4921 - val_accuracy: 0.6965\n",
            "Epoch 25/50\n",
            "141/141 [==============================] - 1s 7ms/step - loss: 0.4789 - accuracy: 0.7455 - val_loss: 0.4737 - val_accuracy: 0.7551\n",
            "Epoch 26/50\n",
            "141/141 [==============================] - 1s 7ms/step - loss: 0.4780 - accuracy: 0.7493 - val_loss: 0.4797 - val_accuracy: 0.7400\n",
            "Epoch 27/50\n",
            "141/141 [==============================] - 1s 7ms/step - loss: 0.4814 - accuracy: 0.7455 - val_loss: 0.4793 - val_accuracy: 0.7489\n",
            "Epoch 28/50\n",
            "141/141 [==============================] - 1s 7ms/step - loss: 0.4732 - accuracy: 0.7531 - val_loss: 0.4776 - val_accuracy: 0.7453\n",
            "Epoch 29/50\n",
            "141/141 [==============================] - 1s 7ms/step - loss: 0.4790 - accuracy: 0.7444 - val_loss: 0.4772 - val_accuracy: 0.7542\n",
            "Epoch 30/50\n",
            "141/141 [==============================] - 1s 7ms/step - loss: 0.4768 - accuracy: 0.7477 - val_loss: 0.4730 - val_accuracy: 0.7480\n",
            "Epoch 31/50\n",
            "141/141 [==============================] - 1s 6ms/step - loss: 0.4735 - accuracy: 0.7453 - val_loss: 0.4766 - val_accuracy: 0.7560\n",
            "Epoch 32/50\n",
            "141/141 [==============================] - 1s 9ms/step - loss: 0.4755 - accuracy: 0.7473 - val_loss: 0.4745 - val_accuracy: 0.7498\n",
            "Epoch 33/50\n",
            "141/141 [==============================] - 1s 10ms/step - loss: 0.4737 - accuracy: 0.7531 - val_loss: 0.4730 - val_accuracy: 0.7542\n",
            "Epoch 34/50\n",
            "141/141 [==============================] - 1s 7ms/step - loss: 0.4716 - accuracy: 0.7482 - val_loss: 0.4735 - val_accuracy: 0.7471\n",
            "Epoch 35/50\n",
            "141/141 [==============================] - 1s 7ms/step - loss: 0.4704 - accuracy: 0.7455 - val_loss: 0.4724 - val_accuracy: 0.7391\n",
            "Epoch 36/50\n",
            "141/141 [==============================] - 1s 7ms/step - loss: 0.4687 - accuracy: 0.7584 - val_loss: 0.4751 - val_accuracy: 0.7374\n",
            "Epoch 37/50\n",
            "141/141 [==============================] - 1s 7ms/step - loss: 0.4722 - accuracy: 0.7533 - val_loss: 0.4675 - val_accuracy: 0.7578\n",
            "Epoch 38/50\n",
            "141/141 [==============================] - 1s 7ms/step - loss: 0.4692 - accuracy: 0.7539 - val_loss: 0.4673 - val_accuracy: 0.7613\n",
            "Epoch 39/50\n",
            "141/141 [==============================] - 1s 6ms/step - loss: 0.4698 - accuracy: 0.7582 - val_loss: 0.4688 - val_accuracy: 0.7684\n",
            "Epoch 40/50\n",
            "141/141 [==============================] - 1s 6ms/step - loss: 0.4696 - accuracy: 0.7542 - val_loss: 0.4682 - val_accuracy: 0.7693\n",
            "Epoch 41/50\n",
            "141/141 [==============================] - 1s 7ms/step - loss: 0.4673 - accuracy: 0.7588 - val_loss: 0.4762 - val_accuracy: 0.7604\n",
            "Epoch 42/50\n",
            "141/141 [==============================] - 1s 7ms/step - loss: 0.4680 - accuracy: 0.7502 - val_loss: 0.4737 - val_accuracy: 0.7480\n",
            "Epoch 43/50\n",
            "141/141 [==============================] - 1s 6ms/step - loss: 0.4676 - accuracy: 0.7584 - val_loss: 0.4705 - val_accuracy: 0.7595\n",
            "Epoch 44/50\n",
            "141/141 [==============================] - 1s 8ms/step - loss: 0.4665 - accuracy: 0.7550 - val_loss: 0.4711 - val_accuracy: 0.7657\n",
            "Epoch 45/50\n",
            "141/141 [==============================] - 1s 9ms/step - loss: 0.4656 - accuracy: 0.7579 - val_loss: 0.4641 - val_accuracy: 0.7684\n",
            "Epoch 46/50\n",
            "141/141 [==============================] - 1s 9ms/step - loss: 0.4678 - accuracy: 0.7522 - val_loss: 0.4645 - val_accuracy: 0.7693\n",
            "Epoch 47/50\n",
            "141/141 [==============================] - 1s 6ms/step - loss: 0.4680 - accuracy: 0.7562 - val_loss: 0.4662 - val_accuracy: 0.7684\n",
            "Epoch 48/50\n",
            "141/141 [==============================] - 1s 7ms/step - loss: 0.4649 - accuracy: 0.7564 - val_loss: 0.4664 - val_accuracy: 0.7657\n",
            "Epoch 49/50\n",
            "141/141 [==============================] - 1s 6ms/step - loss: 0.4622 - accuracy: 0.7655 - val_loss: 0.4659 - val_accuracy: 0.7675\n",
            "Epoch 50/50\n",
            "141/141 [==============================] - 1s 6ms/step - loss: 0.4639 - accuracy: 0.7646 - val_loss: 0.4705 - val_accuracy: 0.7711\n",
            "Best epoch: 50\n"
          ]
        }
      ],
      "source": [
        "# Build the model with the optimal hyperparameters and train it on the data for 50 epochs\n",
        "model = tuner.hypermodel.build(best_hps)\n",
        "history = model.fit(X_train, y_train, epochs=50, validation_split=0.2)\n",
        "\n",
        "val_acc_per_epoch = history.history['val_accuracy']\n",
        "best_epoch = val_acc_per_epoch.index(max(val_acc_per_epoch)) + 1\n",
        "print('Best epoch: %d' % (best_epoch,))"
      ]
    },
    {
      "cell_type": "code",
      "execution_count": null,
      "metadata": {
        "id": "02J1u9pO_U9M",
        "colab": {
          "base_uri": "https://localhost:8080/"
        },
        "outputId": "e36d5774-3520-4a1a-e724-18c317c4b4dc"
      },
      "outputs": [
        {
          "output_type": "stream",
          "name": "stdout",
          "text": [
            "KNN accuracy: 0.7721788502484032\n"
          ]
        }
      ],
      "source": [
        "knn_model = KNeighborsClassifier(n_neighbors = 11)\n",
        "knn_model.fit(X_train,y_train)\n",
        "predicted_y = knn_model.predict(X_test)\n",
        "accuracy_knn = knn_model.score(X_test,y_test)\n",
        "print(\"KNN accuracy:\",accuracy_knn)"
      ]
    },
    {
      "cell_type": "code",
      "execution_count": null,
      "metadata": {
        "id": "jAzEfJp1_Y5G",
        "colab": {
          "base_uri": "https://localhost:8080/"
        },
        "outputId": "446fe797-3a27-423d-e908-14a65e93f4a4"
      },
      "outputs": [
        {
          "output_type": "stream",
          "name": "stdout",
          "text": [
            "SVM accuracy is : 0.7913413768630234\n"
          ]
        }
      ],
      "source": [
        "svc_model = SVC(random_state = 1)\n",
        "svc_model.fit(X_train,y_train)\n",
        "predict_y = svc_model.predict(X_test)\n",
        "accuracy_svc = svc_model.score(X_test,y_test)\n",
        "print(\"SVM accuracy is :\",accuracy_svc)"
      ]
    },
    {
      "cell_type": "code",
      "execution_count": null,
      "metadata": {
        "id": "aZncr4KL_cHS",
        "colab": {
          "base_uri": "https://localhost:8080/"
        },
        "outputId": "90c11e4e-ba02-4ae2-8a95-40cbde84b39a"
      },
      "outputs": [
        {
          "output_type": "stream",
          "name": "stderr",
          "text": [
            "/usr/local/lib/python3.10/dist-packages/sklearn/ensemble/_forest.py:424: FutureWarning: `max_features='auto'` has been deprecated in 1.1 and will be removed in 1.3. To keep the past behaviour, explicitly set `max_features='sqrt'` or remove this parameter as it is also the default value for RandomForestClassifiers and ExtraTreesClassifiers.\n",
            "  warn(\n"
          ]
        },
        {
          "output_type": "stream",
          "name": "stdout",
          "text": [
            "0.801277501774308\n"
          ]
        }
      ],
      "source": [
        "model_rf = RandomForestClassifier(n_estimators=500 , oob_score = True, n_jobs = -1,\n",
        "                                  random_state =50, max_features = \"auto\",\n",
        "                                  max_leaf_nodes = 30)\n",
        "model_rf.fit(X_train, y_train)\n",
        "\n",
        "# Make predictions\n",
        "prediction_test = model_rf.predict(X_test)\n",
        "print (metrics.accuracy_score(y_test, prediction_test))"
      ]
    },
    {
      "cell_type": "code",
      "execution_count": null,
      "metadata": {
        "id": "AApPUvEu_hma",
        "colab": {
          "base_uri": "https://localhost:8080/"
        },
        "outputId": "b45dd91f-9d43-4ca7-845e-035580108587"
      },
      "outputs": [
        {
          "output_type": "stream",
          "name": "stdout",
          "text": [
            "Logistic Regression accuracy is : 0.7984386089425124\n"
          ]
        }
      ],
      "source": [
        "lr_model = LogisticRegression()\n",
        "lr_model.fit(X_train,y_train)\n",
        "accuracy_lr = lr_model.score(X_test,y_test)\n",
        "print(\"Logistic Regression accuracy is :\",accuracy_lr)"
      ]
    },
    {
      "cell_type": "code",
      "execution_count": null,
      "metadata": {
        "id": "dTbTwwGT_oRC",
        "colab": {
          "base_uri": "https://localhost:8080/"
        },
        "outputId": "65153799-818f-4334-bc97-749ece96a9be"
      },
      "outputs": [
        {
          "output_type": "stream",
          "name": "stdout",
          "text": [
            "Decision Tree accuracy is : 0.7317246273953159\n"
          ]
        }
      ],
      "source": [
        "dt_model = DecisionTreeClassifier()\n",
        "dt_model.fit(X_train,y_train)\n",
        "predictdt_y = dt_model.predict(X_test)\n",
        "accuracy_dt = dt_model.score(X_test,y_test)\n",
        "print(\"Decision Tree accuracy is :\",accuracy_dt)"
      ]
    },
    {
      "cell_type": "code",
      "execution_count": null,
      "metadata": {
        "id": "DBIY8APp_q8D",
        "colab": {
          "base_uri": "https://localhost:8080/"
        },
        "outputId": "3f8af15f-3311-4a06-d524-44025ad45317"
      },
      "outputs": [
        {
          "output_type": "stream",
          "name": "stdout",
          "text": [
            "AdaBoost Classifier accuracy\n"
          ]
        },
        {
          "output_type": "execute_result",
          "data": {
            "text/plain": [
              "0.8119233498935415"
            ]
          },
          "metadata": {},
          "execution_count": 26
        }
      ],
      "source": [
        "a_model = AdaBoostClassifier()\n",
        "a_model.fit(X_train,y_train)\n",
        "a_preds = a_model.predict(X_test)\n",
        "print(\"AdaBoost Classifier accuracy\")\n",
        "metrics.accuracy_score(y_test, a_preds)"
      ]
    },
    {
      "cell_type": "code",
      "execution_count": null,
      "metadata": {
        "id": "IRYzho9q_vXV",
        "colab": {
          "base_uri": "https://localhost:8080/"
        },
        "outputId": "acbdb6b6-d79d-4b61-8731-217ab316f15f"
      },
      "outputs": [
        {
          "output_type": "stream",
          "name": "stdout",
          "text": [
            "Gradient Boosting Classifier 0.8026969481902059\n"
          ]
        }
      ],
      "source": [
        "gb = GradientBoostingClassifier()\n",
        "gb.fit(X_train, y_train)\n",
        "gb_pred = gb.predict(X_test)\n",
        "print(\"Gradient Boosting Classifier\", accuracy_score(y_test, gb_pred))"
      ]
    },
    {
      "cell_type": "code",
      "execution_count": null,
      "metadata": {
        "id": "ha9zHw5C_0cv",
        "colab": {
          "base_uri": "https://localhost:8080/"
        },
        "outputId": "53d5e89f-26aa-48f5-c0b6-655a4543fb31"
      },
      "outputs": [
        {
          "output_type": "stream",
          "name": "stdout",
          "text": [
            "Final Accuracy Score \n",
            "0.8069552874378992\n"
          ]
        }
      ],
      "source": [
        "from sklearn.ensemble import VotingClassifier\n",
        "clf1 = GradientBoostingClassifier()\n",
        "clf2 = LogisticRegression()\n",
        "clf3 = AdaBoostClassifier()\n",
        "eclf1 = VotingClassifier(estimators=[('gbc', clf1), ('lr', clf2), ('abc', clf3)], voting='soft')\n",
        "eclf1.fit(X_train, y_train)\n",
        "predictions = eclf1.predict(X_test)\n",
        "print(\"Final Accuracy Score \")\n",
        "print(accuracy_score(y_test, predictions))"
      ]
    },
    {
      "cell_type": "code",
      "execution_count": 6,
      "metadata": {
        "id": "BxjVAXY-jYd7",
        "colab": {
          "base_uri": "https://localhost:8080/",
          "height": 268
        },
        "outputId": "17cf3481-0c65-4be0-bbeb-ad3bbbceb47a"
      },
      "outputs": [
        {
          "output_type": "display_data",
          "data": {
            "text/plain": [
              "<Figure size 3000x500 with 1 Axes>"
            ],
            "image/png": "[encoded data removed]"
          },
          "metadata": {}
        }
      ],
      "source": [
        "accuracy_dict = {'Neural network': 0.8047915101051331, 'Gradient Boosting Classifier': 0.8026969481902059,\n",
        "                'AdaBoost Classifier accuracy': 0.8119233498935415, 'Decision Tree Classifier': 0.7317246273953159,\n",
        "                 'Logistic Regression': 0.7984386089425124, 'Random Forest Classifier': 0.801277501774308,\n",
        "                 'Support Vector Machine': 0.7913413768630234, 'K-Nearest Neighbors': 0.7721788502484032,\n",
        "                 'Ensemble': 0.8069552874378992\n",
        "                 }\n",
        "names = list(accuracy_dict.keys())\n",
        "values = list(accuracy_dict.values())\n",
        "plt_1 = plt.figure(figsize=(30, 5))\n",
        "plt.bar(range(len(accuracy_dict)), values, tick_label=names)\n",
        "\n",
        "plt.show()"
      ]
    }
  ],
  "metadata": {
    "accelerator": "GPU",
    "colab": {
      "provenance": [],
      "authorship_tag": "ABX9TyPJuNpIqd+jmS3J+12jps4T",
      "include_colab_link": true
    },
    "kernelspec": {
      "display_name": "Python 3",
      "name": "python3"
    },
    "language_info": {
      "name": "python"
    }
  },
  "nbformat": 4,
  "nbformat_minor": 0
}