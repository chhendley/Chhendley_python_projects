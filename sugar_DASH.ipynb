{
  "cells": [
    {
      "cell_type": "markdown",
      "metadata": {
        "id": "view-in-github",
        "colab_type": "text"
      },
      "source": [
        "<a href=\"https://colab.research.google.com/github/chhendley/Chhendley-portfolio-python/blob/main/sugar_DASH.ipynb\" target=\"_parent\"><img src=\"https://colab.research.google.com/assets/colab-badge.svg\" alt=\"Open In Colab\"/></a>"
      ]
    },
    {
      "cell_type": "code",
      "execution_count": 8,
      "metadata": {
        "colab": {
          "base_uri": "https://localhost:8080/"
        },
        "id": "J80hsTG6y7Uq",
        "outputId": "6f3dee6c-6272-4a0e-d4f8-de11a208c9ec"
      },
      "outputs": [
        {
          "output_type": "stream",
          "name": "stdout",
          "text": [
            "Looking in indexes: https://pypi.org/simple, https://us-python.pkg.dev/colab-wheels/public/simple/\n",
            "Requirement already satisfied: dash in /usr/local/lib/python3.10/dist-packages (2.10.2)\n",
            "Requirement already satisfied: Flask<2.3.0,>=1.0.4 in /usr/local/lib/python3.10/dist-packages (from dash) (2.2.4)\n",
            "Requirement already satisfied: Werkzeug<2.3.0 in /usr/local/lib/python3.10/dist-packages (from dash) (2.2.3)\n",
            "Requirement already satisfied: plotly>=5.0.0 in /usr/local/lib/python3.10/dist-packages (from dash) (5.13.1)\n",
            "Requirement already satisfied: dash-html-components==2.0.0 in /usr/local/lib/python3.10/dist-packages (from dash) (2.0.0)\n",
            "Requirement already satisfied: dash-core-components==2.0.0 in /usr/local/lib/python3.10/dist-packages (from dash) (2.0.0)\n",
            "Requirement already satisfied: dash-table==5.0.0 in /usr/local/lib/python3.10/dist-packages (from dash) (5.0.0)\n",
            "Requirement already satisfied: Jinja2>=3.0 in /usr/local/lib/python3.10/dist-packages (from Flask<2.3.0,>=1.0.4->dash) (3.1.2)\n",
            "Requirement already satisfied: itsdangerous>=2.0 in /usr/local/lib/python3.10/dist-packages (from Flask<2.3.0,>=1.0.4->dash) (2.1.2)\n",
            "Requirement already satisfied: click>=8.0 in /usr/local/lib/python3.10/dist-packages (from Flask<2.3.0,>=1.0.4->dash) (8.1.3)\n",
            "Requirement already satisfied: tenacity>=6.2.0 in /usr/local/lib/python3.10/dist-packages (from plotly>=5.0.0->dash) (8.2.2)\n",
            "Requirement already satisfied: MarkupSafe>=2.1.1 in /usr/local/lib/python3.10/dist-packages (from Werkzeug<2.3.0->dash) (2.1.2)\n",
            "Looking in indexes: https://pypi.org/simple, https://us-python.pkg.dev/colab-wheels/public/simple/\n",
            "Requirement already satisfied: dash-html-components in /usr/local/lib/python3.10/dist-packages (2.0.0)\n",
            "Looking in indexes: https://pypi.org/simple, https://us-python.pkg.dev/colab-wheels/public/simple/\n",
            "Requirement already satisfied: dash-core-components in /usr/local/lib/python3.10/dist-packages (2.0.0)\n",
            "Looking in indexes: https://pypi.org/simple, https://us-python.pkg.dev/colab-wheels/public/simple/\n",
            "Requirement already satisfied: plotly in /usr/local/lib/python3.10/dist-packages (5.13.1)\n",
            "Requirement already satisfied: tenacity>=6.2.0 in /usr/local/lib/python3.10/dist-packages (from plotly) (8.2.2)\n",
            "Looking in indexes: https://pypi.org/simple, https://us-python.pkg.dev/colab-wheels/public/simple/\n",
            "Requirement already satisfied: jupyter-dash in /usr/local/lib/python3.10/dist-packages (0.4.2)\n",
            "Requirement already satisfied: dash in /usr/local/lib/python3.10/dist-packages (from jupyter-dash) (2.10.2)\n",
            "Requirement already satisfied: requests in /usr/local/lib/python3.10/dist-packages (from jupyter-dash) (2.27.1)\n",
            "Requirement already satisfied: flask in /usr/local/lib/python3.10/dist-packages (from jupyter-dash) (2.2.4)\n",
            "Requirement already satisfied: retrying in /usr/local/lib/python3.10/dist-packages (from jupyter-dash) (1.3.4)\n",
            "Requirement already satisfied: ipython in /usr/local/lib/python3.10/dist-packages (from jupyter-dash) (7.34.0)\n",
            "Requirement already satisfied: ipykernel in /usr/local/lib/python3.10/dist-packages (from jupyter-dash) (5.5.6)\n",
            "Requirement already satisfied: ansi2html in /usr/local/lib/python3.10/dist-packages (from jupyter-dash) (1.8.0)\n",
            "Requirement already satisfied: nest-asyncio in /usr/local/lib/python3.10/dist-packages (from jupyter-dash) (1.5.6)\n",
            "Requirement already satisfied: Werkzeug<2.3.0 in /usr/local/lib/python3.10/dist-packages (from dash->jupyter-dash) (2.2.3)\n",
            "Requirement already satisfied: plotly>=5.0.0 in /usr/local/lib/python3.10/dist-packages (from dash->jupyter-dash) (5.13.1)\n",
            "Requirement already satisfied: dash-html-components==2.0.0 in /usr/local/lib/python3.10/dist-packages (from dash->jupyter-dash) (2.0.0)\n",
            "Requirement already satisfied: dash-core-components==2.0.0 in /usr/local/lib/python3.10/dist-packages (from dash->jupyter-dash) (2.0.0)\n",
            "Requirement already satisfied: dash-table==5.0.0 in /usr/local/lib/python3.10/dist-packages (from dash->jupyter-dash) (5.0.0)\n",
            "Requirement already satisfied: Jinja2>=3.0 in /usr/local/lib/python3.10/dist-packages (from flask->jupyter-dash) (3.1.2)\n",
            "Requirement already satisfied: itsdangerous>=2.0 in /usr/local/lib/python3.10/dist-packages (from flask->jupyter-dash) (2.1.2)\n",
            "Requirement already satisfied: click>=8.0 in /usr/local/lib/python3.10/dist-packages (from flask->jupyter-dash) (8.1.3)\n",
            "Requirement already satisfied: ipython-genutils in /usr/local/lib/python3.10/dist-packages (from ipykernel->jupyter-dash) (0.2.0)\n",
            "Requirement already satisfied: traitlets>=4.1.0 in /usr/local/lib/python3.10/dist-packages (from ipykernel->jupyter-dash) (5.7.1)\n",
            "Requirement already satisfied: jupyter-client in /usr/local/lib/python3.10/dist-packages (from ipykernel->jupyter-dash) (6.1.12)\n",
            "Requirement already satisfied: tornado>=4.2 in /usr/local/lib/python3.10/dist-packages (from ipykernel->jupyter-dash) (6.3.1)\n",
            "Requirement already satisfied: setuptools>=18.5 in /usr/local/lib/python3.10/dist-packages (from ipython->jupyter-dash) (67.7.2)\n",
            "Requirement already satisfied: jedi>=0.16 in /usr/local/lib/python3.10/dist-packages (from ipython->jupyter-dash) (0.18.2)\n",
            "Requirement already satisfied: decorator in /usr/local/lib/python3.10/dist-packages (from ipython->jupyter-dash) (4.4.2)\n",
            "Requirement already satisfied: pickleshare in /usr/local/lib/python3.10/dist-packages (from ipython->jupyter-dash) (0.7.5)\n",
            "Requirement already satisfied: prompt-toolkit!=3.0.0,!=3.0.1,<3.1.0,>=2.0.0 in /usr/local/lib/python3.10/dist-packages (from ipython->jupyter-dash) (3.0.38)\n",
            "Requirement already satisfied: pygments in /usr/local/lib/python3.10/dist-packages (from ipython->jupyter-dash) (2.14.0)\n",
            "Requirement already satisfied: backcall in /usr/local/lib/python3.10/dist-packages (from ipython->jupyter-dash) (0.2.0)\n",
            "Requirement already satisfied: matplotlib-inline in /usr/local/lib/python3.10/dist-packages (from ipython->jupyter-dash) (0.1.6)\n",
            "Requirement already satisfied: pexpect>4.3 in /usr/local/lib/python3.10/dist-packages (from ipython->jupyter-dash) (4.8.0)\n",
            "Requirement already satisfied: urllib3<1.27,>=1.21.1 in /usr/local/lib/python3.10/dist-packages (from requests->jupyter-dash) (1.26.15)\n",
            "Requirement already satisfied: certifi>=2017.4.17 in /usr/local/lib/python3.10/dist-packages (from requests->jupyter-dash) (2022.12.7)\n",
            "Requirement already satisfied: charset-normalizer~=2.0.0 in /usr/local/lib/python3.10/dist-packages (from requests->jupyter-dash) (2.0.12)\n",
            "Requirement already satisfied: idna<4,>=2.5 in /usr/local/lib/python3.10/dist-packages (from requests->jupyter-dash) (3.4)\n",
            "Requirement already satisfied: six>=1.7.0 in /usr/local/lib/python3.10/dist-packages (from retrying->jupyter-dash) (1.16.0)\n",
            "Requirement already satisfied: parso<0.9.0,>=0.8.0 in /usr/local/lib/python3.10/dist-packages (from jedi>=0.16->ipython->jupyter-dash) (0.8.3)\n",
            "Requirement already satisfied: MarkupSafe>=2.0 in /usr/local/lib/python3.10/dist-packages (from Jinja2>=3.0->flask->jupyter-dash) (2.1.2)\n",
            "Requirement already satisfied: ptyprocess>=0.5 in /usr/local/lib/python3.10/dist-packages (from pexpect>4.3->ipython->jupyter-dash) (0.7.0)\n",
            "Requirement already satisfied: tenacity>=6.2.0 in /usr/local/lib/python3.10/dist-packages (from plotly>=5.0.0->dash->jupyter-dash) (8.2.2)\n",
            "Requirement already satisfied: wcwidth in /usr/local/lib/python3.10/dist-packages (from prompt-toolkit!=3.0.0,!=3.0.1,<3.1.0,>=2.0.0->ipython->jupyter-dash) (0.2.6)\n",
            "Requirement already satisfied: jupyter-core>=4.6.0 in /usr/local/lib/python3.10/dist-packages (from jupyter-client->ipykernel->jupyter-dash) (5.3.0)\n",
            "Requirement already satisfied: pyzmq>=13 in /usr/local/lib/python3.10/dist-packages (from jupyter-client->ipykernel->jupyter-dash) (23.2.1)\n",
            "Requirement already satisfied: python-dateutil>=2.1 in /usr/local/lib/python3.10/dist-packages (from jupyter-client->ipykernel->jupyter-dash) (2.8.2)\n",
            "Requirement already satisfied: platformdirs>=2.5 in /usr/local/lib/python3.10/dist-packages (from jupyter-core>=4.6.0->jupyter-client->ipykernel->jupyter-dash) (3.3.0)\n"
          ]
        }
      ],
      "source": [
        "! pip install dash   \n",
        "! pip install dash-html-components                                         \n",
        "! pip install dash-core-components                                     \n",
        "! pip install plotly\n",
        "! pip install jupyter-dash"
      ]
    },
    {
      "cell_type": "code",
      "execution_count": 9,
      "metadata": {
        "id": "lo-5XG_puhYN"
      },
      "outputs": [],
      "source": [
        "import io\n",
        "import pandas as pd\n",
        "import matplotlib.pyplot as plt\n",
        "import seaborn as sns\n",
        "import plotly.express as px\n",
        "from jupyter_dash import JupyterDash\n",
        "import statsmodels.api as sm\n",
        "from statsmodels.formula.api import ols\n",
        "from statsmodels.stats.diagnostic import het_breuschpagan\n",
        "from scipy import stats"
      ]
    },
    {
      "cell_type": "markdown",
      "metadata": {
        "id": "4l8OR3TBI2im"
      },
      "source": [
        "visualize sugar data & time series forecast year 2022"
      ]
    },
    {
      "cell_type": "code",
      "execution_count": 10,
      "metadata": {
        "id": "C0qE4EbI-72I"
      },
      "outputs": [],
      "source": [
        "region_columns = ['Year', 'Month', 'bakery, related products', 'confectionery','ice cream & dairy','beverages', 'canned, bottled & frozen foods', 'multiple food','non-food uses','hotel & restaurants',\n",
        "'wholesale','retail & chain stores', 'government agencies','other', 'Monthly total']\n",
        "\n",
        "product_columns = ['Year','Month','New England','Mid-Atlantic','North Central', 'South', 'West', 'Puerto Rico', 'Montly total']\t"
      ]
    },
    {
      "cell_type": "code",
      "execution_count": 11,
      "metadata": {
        "id": "bJyx2a6NDOr7"
      },
      "outputs": [],
      "source": [
        "#sugar dataframe cleaning helper function\n",
        "def clean_data(col_name, link):\n",
        "  data = pd.read_excel(str(link))\n",
        "  data.drop([0,1,2,3,4,5,6], inplace=True)\n",
        "  data.fillna(0)\n",
        "  data.astype(int)\n",
        "  data.columns = col_name\n",
        "  data['DATE'] = pd.to_datetime(data[['Year', 'Month' ]].assign(DAY=1), format='%Y-%m-%d')\n",
        "  data.reset_index(inplace=True)\n",
        "  data.drop(['Year', 'Month'],axis=1,inplace=True)\n",
        "  return data\n",
        "\n",
        "\n",
        "def clean_data1(col_name, link):\n",
        "  data = pd.read_excel(str(link))\n",
        "  data.drop([0,1,2,3,4, 380], inplace=True)\n",
        "  data.fillna(0)\n",
        "  data.astype(int)\n",
        "  data.columns = col_name\n",
        "  data['DATE'] = pd.to_datetime(data[['Year', 'Month']].assign(DAY=1)) \n",
        "  data.set_index(data['DATE'], inplace=True)\n",
        "  data.loc['Total']= data.sum()\n",
        "  data.at[\"Total\", 'DATE'] = '0'\n",
        "  data.drop(['DATE', 'Year', 'Month'],axis=1,inplace=True)\n",
        "  return data"
      ]
    },
    {
      "cell_type": "code",
      "execution_count": 12,
      "metadata": {
        "colab": {
          "base_uri": "https://localhost:8080/"
        },
        "id": "uJ_5gtPDE8c8",
        "outputId": "8c4b2a17-c228-47ed-cbcc-58bb759f3f70"
      },
      "outputs": [
        {
          "output_type": "stream",
          "name": "stderr",
          "text": [
            "<ipython-input-11-d91a5024efcb>:22: FutureWarning: The default value of numeric_only in DataFrame.sum is deprecated. In a future version, it will default to False. In addition, specifying 'numeric_only=None' is deprecated. Select only valid columns or specify the value of numeric_only to silence this warning.\n",
            "  data.loc['Total']= data.sum()\n",
            "<ipython-input-11-d91a5024efcb>:22: FutureWarning: The default value of numeric_only in DataFrame.sum is deprecated. In a future version, it will default to False. In addition, specifying 'numeric_only=None' is deprecated. Select only valid columns or specify the value of numeric_only to silence this warning.\n",
            "  data.loc['Total']= data.sum()\n",
            "<ipython-input-11-d91a5024efcb>:22: FutureWarning: The default value of numeric_only in DataFrame.sum is deprecated. In a future version, it will default to False. In addition, specifying 'numeric_only=None' is deprecated. Select only valid columns or specify the value of numeric_only to silence this warning.\n",
            "  data.loc['Total']= data.sum()\n",
            "<ipython-input-11-d91a5024efcb>:22: FutureWarning: The default value of numeric_only in DataFrame.sum is deprecated. In a future version, it will default to False. In addition, specifying 'numeric_only=None' is deprecated. Select only valid columns or specify the value of numeric_only to silence this warning.\n",
            "  data.loc['Total']= data.sum()\n",
            "<ipython-input-11-d91a5024efcb>:22: FutureWarning: The default value of numeric_only in DataFrame.sum is deprecated. In a future version, it will default to False. In addition, specifying 'numeric_only=None' is deprecated. Select only valid columns or specify the value of numeric_only to silence this warning.\n",
            "  data.loc['Total']= data.sum()\n",
            "<ipython-input-11-d91a5024efcb>:22: FutureWarning: The default value of numeric_only in DataFrame.sum is deprecated. In a future version, it will default to False. In addition, specifying 'numeric_only=None' is deprecated. Select only valid columns or specify the value of numeric_only to silence this warning.\n",
            "  data.loc['Total']= data.sum()\n",
            "<ipython-input-11-d91a5024efcb>:22: FutureWarning: The default value of numeric_only in DataFrame.sum is deprecated. In a future version, it will default to False. In addition, specifying 'numeric_only=None' is deprecated. Select only valid columns or specify the value of numeric_only to silence this warning.\n",
            "  data.loc['Total']= data.sum()\n",
            "<ipython-input-11-d91a5024efcb>:22: FutureWarning: The default value of numeric_only in DataFrame.sum is deprecated. In a future version, it will default to False. In addition, specifying 'numeric_only=None' is deprecated. Select only valid columns or specify the value of numeric_only to silence this warning.\n",
            "  data.loc['Total']= data.sum()\n",
            "<ipython-input-11-d91a5024efcb>:22: FutureWarning: The default value of numeric_only in DataFrame.sum is deprecated. In a future version, it will default to False. In addition, specifying 'numeric_only=None' is deprecated. Select only valid columns or specify the value of numeric_only to silence this warning.\n",
            "  data.loc['Total']= data.sum()\n",
            "<ipython-input-11-d91a5024efcb>:22: FutureWarning: The default value of numeric_only in DataFrame.sum is deprecated. In a future version, it will default to False. In addition, specifying 'numeric_only=None' is deprecated. Select only valid columns or specify the value of numeric_only to silence this warning.\n",
            "  data.loc['Total']= data.sum()\n",
            "<ipython-input-11-d91a5024efcb>:22: FutureWarning: The default value of numeric_only in DataFrame.sum is deprecated. In a future version, it will default to False. In addition, specifying 'numeric_only=None' is deprecated. Select only valid columns or specify the value of numeric_only to silence this warning.\n",
            "  data.loc['Total']= data.sum()\n"
          ]
        }
      ],
      "source": [
        "#clean data and store in dataframe\n",
        "NE_sugar_df = clean_data(region_columns, 'https://www.fsa.usda.gov/Assets/USDA-FSA-Public/usdafiles/EPAS/Excel/hist_sugdane.xls')\n",
        "MA_sugar_df = clean_data(region_columns, 'https://www.fsa.usda.gov/Assets/USDA-FSA-Public/usdafiles/EPAS/Excel/hist_sugdama.xls')\n",
        "NC_sugar_df = clean_data(region_columns, 'https://www.fsa.usda.gov/Assets/USDA-FSA-Public/usdafiles/EPAS/Excel/hist_sugdanc.xls')\n",
        "S_sugar_df = clean_data(region_columns, 'https://www.fsa.usda.gov/Assets/USDA-FSA-Public/usdafiles/EPAS/Excel/hist_sugdaso.xls')\n",
        "W_sugar_df = clean_data(region_columns, 'https://www.fsa.usda.gov/Assets/USDA-FSA-Public/usdafiles/EPAS/Excel/hist_sugdawe.xls')\n",
        "bakery_df = clean_data1(product_columns, 'https://www.fsa.usda.gov/Assets/USDA-FSA-Public/usdafiles/EPAS/Excel/hist_deltyp1.xls')\n",
        "confectionary_df = clean_data1(product_columns, 'https://www.fsa.usda.gov/Assets/USDA-FSA-Public/usdafiles/EPAS/Excel/hist_deltyp2.xls')\n",
        "ice_cream_df= clean_data1(product_columns, 'https://www.fsa.usda.gov/Assets/USDA-FSA-Public/usdafiles/EPAS/Excel/hist_deltyp3.xls')\n",
        "beverages_df = clean_data1(product_columns, 'https://www.fsa.usda.gov/Assets/USDA-FSA-Public/usdafiles/EPAS/Excel/hist_deltyp4.xls')\n",
        "multiple_df = clean_data1(product_columns, 'https://www.fsa.usda.gov/Assets/USDA-FSA-Public/usdafiles/EPAS/Excel/hist_deltyp6.xls')\n",
        "nonfood_df = clean_data1(product_columns, 'https://www.fsa.usda.gov/Assets/USDA-FSA-Public/usdafiles/EPAS/Excel/hist_deltyp7.xls')\n",
        "hotels_df = clean_data1(product_columns, 'https://www.fsa.usda.gov/Assets/USDA-FSA-Public/usdafiles/EPAS/Excel/hist_deltyp8.xls')\n",
        "wholesale_df = clean_data1(product_columns, 'https://www.fsa.usda.gov/Assets/USDA-FSA-Public/usdafiles/EPAS/Excel/hist_deltyp9.xls')\n",
        "retail_df = clean_data1(product_columns, 'https://www.fsa.usda.gov/Assets/USDA-FSA-Public/usdafiles/EPAS/Excel/hist_deltyp10.xls')\n",
        "government_df = clean_data1(product_columns, 'https://www.fsa.usda.gov/Assets/USDA-FSA-Public/usdafiles/EPAS/Excel/hist_deltyp11.xls')\n",
        "other_df = clean_data1(product_columns, 'https://www.fsa.usda.gov/Assets/USDA-FSA-Public/usdafiles/EPAS/Excel/hist_deltyp12.xls')\n",
        "\n",
        "canned_df = pd.read_excel('https://www.fsa.usda.gov/Assets/USDA-FSA-Public/usdafiles/EPAS/Excel/hist_deltyp5.xls')\n",
        "canned_df.drop([0,1,2,3,4, 380], inplace=True)\n",
        "canned_df.fillna(0)\n",
        "canned_df.columns = product_columns"
      ]
    },
    {
      "cell_type": "code",
      "execution_count": 15,
      "metadata": {
        "id": "pkCT2hhCPyab"
      },
      "outputs": [],
      "source": [
        "NE_total = NE_sugar_df['Monthly total']\n",
        "MA_total= MA_sugar_df['Monthly total']\n",
        "NC_total =NC_sugar_df['Monthly total']\n",
        "S_total = S_sugar_df['Monthly total']\n",
        "W_total = W_sugar_df['Monthly total']\n",
        "totals = [NE_total, MA_total, NC_total, S_total, W_total]\n",
        "\n",
        "totals_TS_df = pd.concat(totals, axis=0)\n",
        "cols = ['NE_total', 'MA_total', 'NC_total', 'S_total', 'W_total']\n",
        "totals_TS_df.columns = cols"
      ]
    },
    {
      "cell_type": "code",
      "execution_count": 29,
      "metadata": {
        "colab": {
          "base_uri": "https://localhost:8080/",
          "height": 741
        },
        "id": "7vyKQL7X-Ai4",
        "outputId": "c7abaac2-5e1a-48ba-df2a-d38fa955984c"
      },
      "outputs": [
        {
          "output_type": "stream",
          "name": "stdout",
          "text": [
            "Dash is running on http://127.0.0.1:8050/\n",
            "\n"
          ]
        },
        {
          "output_type": "stream",
          "name": "stderr",
          "text": [
            "INFO:dash.dash:Dash is running on http://127.0.0.1:8050/\n",
            "\n"
          ]
        },
        {
          "output_type": "display_data",
          "data": {
            "text/plain": [
              "<IPython.core.display.Javascript object>"
            ],
            "application/javascript": [
              "(async (port, path, width, height, cache, element) => {\n",
              "    if (!google.colab.kernel.accessAllowed && !cache) {\n",
              "      return;\n",
              "    }\n",
              "    element.appendChild(document.createTextNode(''));\n",
              "    const url = await google.colab.kernel.proxyPort(port, {cache});\n",
              "    const iframe = document.createElement('iframe');\n",
              "    iframe.src = new URL(path, url).toString();\n",
              "    iframe.height = height;\n",
              "    iframe.width = width;\n",
              "    iframe.style.border = 0;\n",
              "    iframe.allow = [\n",
              "        'accelerometer',\n",
              "        'autoplay',\n",
              "        'camera',\n",
              "        'clipboard-read',\n",
              "        'clipboard-write',\n",
              "        'gyroscope',\n",
              "        'magnetometer',\n",
              "        'microphone',\n",
              "        'serial',\n",
              "        'usb',\n",
              "        'xr-spatial-tracking',\n",
              "    ].join('; ');\n",
              "    element.appendChild(iframe);\n",
              "  })(8050, \"/\", \"100%\", 650, false, window.element)"
            ]
          },
          "metadata": {}
        }
      ],
      "source": [
        "\n",
        "from dash import Dash, dcc, html, Input, Output\n",
        "from plotly.express import data\n",
        "import pandas as pd\n",
        "import plotly.graph_objects as go\n",
        "import plotly.express as px\n",
        "from jupyter_dash import JupyterDash\n",
        "\n",
        "\n",
        "app = JupyterDash(__name__)\n",
        "\n",
        "df = NE_sugar_df\n",
        "\n",
        "\n",
        "app.layout = html.Div(id = 'parent', children = [\n",
        "    html.H1(id = 'H1', children = 'Northeast Sugar consumption', style = {'textAlign':'center',\\\n",
        "                                            'marginTop':40,'marginBottom':40}),\n",
        "        dcc.Dropdown( id = 'dropdown',\n",
        "        options = [\n",
        "            {'label': 'Bakery', 'value':'bakery, related products'},\n",
        "            {'label':'Beverages', 'value':'beverages' },\n",
        "            {'label': 'Canned, bottles & frozen foods', 'value':'canned, bottles & frozen foods'},\n",
        "            {'label': 'Confectionery', 'value':'confectionery'},\n",
        "            {'label': 'Government Agencies', 'value':'government agencies'},\n",
        "            {'label': 'Hotel & Restaurants', 'value': 'hotels & restaurants'},\n",
        "            {'label': 'Ice cream & Dairy', 'value':'ice cream & dairy'},\n",
        "            {'label': 'Multiple food', 'value':'multiple food'},\n",
        "            {'label': 'Non-food uses', 'value':'non-food uses'},\n",
        "            {'label': 'Other', 'value':'other'},\n",
        "            {'label': 'Retail & Chain stores', 'value':'retail & chain stores'},\n",
        "            {'label': 'Total', 'value':'montly total'},\n",
        "            {'label': 'Wholesale', 'value':'wholesale'},\n",
        "            ],\n",
        "        value = 'GOOG'),\n",
        "        dcc.Graph(id = 'bar_plot')\n",
        "    ])\n",
        "    \n",
        "    \n",
        "@app.callback(Output(component_id='bar_plot', component_property= 'figure'),\n",
        "              Input(component_id='dropdown', component_property= 'value'))\n",
        "def graph_update(dropdown_value):\n",
        "    print(dropdown_value)\n",
        "    fig = go.Figure([go.Scatter(x = df['DATE'], y = df['{}'.format(dropdown_value)],\\\n",
        "                     line = dict(color = 'firebrick', width = 4))\n",
        "                     ])\n",
        "    \n",
        "    fig.update_layout(title = 'Sugar prices over time',\n",
        "                      xaxis_title = 'Dates',\n",
        "                      yaxis_title = 'Prices'\n",
        "                      )\n",
        "    return fig  \n",
        "\n",
        "\n",
        "if __name__ == '__main__': \n",
        "    app.run_server(mode=\"inline\")\n",
        "\n"
      ]
    }
  ],
  "metadata": {
    "colab": {
      "provenance": [],
      "authorship_tag": "ABX9TyMO7MTyg4X+G0723KlAk/gk",
      "include_colab_link": true
    },
    "kernelspec": {
      "display_name": "Python 3",
      "name": "python3"
    },
    "language_info": {
      "name": "python"
    }
  },
  "nbformat": 4,
  "nbformat_minor": 0
}